{
 "cells": [
  {
   "cell_type": "markdown",
   "metadata": {},
   "source": [
    "# model fine-tune (pretrain-finetune)"
   ]
  },
  {
   "cell_type": "code",
   "execution_count": null,
   "metadata": {},
   "outputs": [],
   "source": [
    "import tensorflow as tf\n",
    "import tensorflow.keras as keras\n",
    "import numpy as np\n",
    "import pandas as pd\n",
    "import os\n",
    "import matplotlib.pyplot as plt\n",
    "import seaborn as sns\n",
    "from sklearn.manifold import TSNE\n",
    "from sklearn.metrics import r2_score\n",
    "import itertools\n",
    "from dataPreprocess import read_dataset"
   ]
  },
  {
   "cell_type": "code",
   "execution_count": null,
   "metadata": {},
   "outputs": [],
   "source": [
    "sourceSessionIndex = 15\n",
    "targetSessionIndex = 16"
   ]
  },
  {
   "cell_type": "code",
   "execution_count": null,
   "metadata": {},
   "outputs": [],
   "source": [
    "folderPath = './data'\n",
    "fileList = sorted([i for i in os.listdir(folderPath) if i.endswith('.pkl.zip')])"
   ]
  },
  {
   "cell_type": "code",
   "execution_count": null,
   "metadata": {},
   "outputs": [],
   "source": [
    "sourceSession = fileList[sourceSessionIndex]\n",
    "targetSession = fileList[targetSessionIndex]"
   ]
  },
  {
   "cell_type": "code",
   "execution_count": null,
   "metadata": {},
   "outputs": [],
   "source": [
    "sourceDataset = read_dataset(os.path.join(folderPath, sourceSession), ['velocity_x', 'velocity_y'])\n",
    "targetDataset = read_dataset(os.path.join(folderPath, targetSession), ['velocity_x', 'velocity_y'])"
   ]
  },
  {
   "cell_type": "code",
   "execution_count": null,
   "metadata": {},
   "outputs": [],
   "source": [
    "from model_tf import simpleDecodeModel\n",
    "\n",
    "model = simpleDecodeModel()\n",
    "model.compile(optimizer='adam', loss='mse')"
   ]
  },
  {
   "cell_type": "code",
   "execution_count": null,
   "metadata": {},
   "outputs": [],
   "source": [
    "TRAIN_COUNT = 5000"
   ]
  },
  {
   "cell_type": "code",
   "execution_count": null,
   "metadata": {},
   "outputs": [],
   "source": [
    "test_timestamp = targetDataset['timestamp'][TRAIN_COUNT:]"
   ]
  },
  {
   "cell_type": "code",
   "execution_count": null,
   "metadata": {},
   "outputs": [],
   "source": [
    "train_x = sourceDataset['m1'][:TRAIN_COUNT, -5:, :]\n",
    "train_y = sourceDataset['movement'][:TRAIN_COUNT, -5:, :]"
   ]
  },
  {
   "cell_type": "code",
   "execution_count": null,
   "metadata": {},
   "outputs": [],
   "source": [
    "# z-score\n",
    "train_y_mean, train_y_std = np.mean(train_y, axis=0), np.std(train_y, axis=0)"
   ]
  },
  {
   "cell_type": "code",
   "execution_count": null,
   "metadata": {},
   "outputs": [],
   "source": [
    "train_y = (train_y - train_y_mean) / train_y_std"
   ]
  },
  {
   "cell_type": "code",
   "execution_count": null,
   "metadata": {},
   "outputs": [],
   "source": [
    "# train\n",
    "model.fit(x=train_x, y=train_y, batch_size=128, epochs=100, shuffle=True, verbose=0)"
   ]
  },
  {
   "cell_type": "code",
   "execution_count": null,
   "metadata": {},
   "outputs": [],
   "source": [
    "train_x = targetDataset['m1'][:TRAIN_COUNT, -5:, :]\n",
    "train_y = targetDataset['movement'][:TRAIN_COUNT]"
   ]
  },
  {
   "cell_type": "code",
   "execution_count": null,
   "metadata": {},
   "outputs": [],
   "source": [
    "train_y = (train_y - train_y_mean) / train_y_std"
   ]
  },
  {
   "cell_type": "code",
   "execution_count": null,
   "metadata": {},
   "outputs": [],
   "source": [
    "# finetune\n",
    "model.fit(x=train_x, y=train_y, batch_size=128, epochs=100, shuffle=True, verbose=0)"
   ]
  },
  {
   "cell_type": "code",
   "execution_count": null,
   "metadata": {},
   "outputs": [],
   "source": [
    "test_x = targetDataset['m1'][TRAIN_COUNT:, -5:, :]\n",
    "test_y = targetDataset['movement'][TRAIN_COUNT:]"
   ]
  },
  {
   "cell_type": "code",
   "execution_count": null,
   "metadata": {},
   "outputs": [],
   "source": [
    "# pred\n",
    "pred = model.predict(x=test_x)"
   ]
  },
  {
   "cell_type": "code",
   "execution_count": null,
   "metadata": {},
   "outputs": [],
   "source": [
    "# 還原\n",
    "pred = pred * train_y_std + train_y_mean"
   ]
  },
  {
   "cell_type": "code",
   "execution_count": null,
   "metadata": {},
   "outputs": [],
   "source": [
    "# 計算R2\n",
    "r2 = [r2_score(y_pred=pred[:, i], y_true=test_y[:, i]) for i in range(pred.shape[-1])]\n",
    "'r2_x =', r2_x, 'r2_y =', r2_y"
   ]
  },
  {
   "cell_type": "code",
   "execution_count": null,
   "metadata": {},
   "outputs": [],
   "source": [
    "# 輸出\n",
    "result = pd.DataFrame(columns=[])\n",
    "axis = ['x', 'y']\n",
    "for n, a in enumerate(axis):\n",
    "    result = result.append(pd.DataFrame({\n",
    "        'timestamp': test_timestamp,\n",
    "        'value': test_y[:, n],\n",
    "        'type': 'groundtruth',   \n",
    "        'movement': 'velocity',\n",
    "        'axis': a,          \n",
    "        'test_on': targetSessionIndex,\n",
    "        'r2': r2[n]     \n",
    "    }))\n",
    "    result = result.append(pd.DataFrame({\n",
    "        'timestamp': test_timestamp,\n",
    "        'value': pred[:, n],\n",
    "        'type': 'prediction',   \n",
    "        'movement': 'velocity',\n",
    "        'axis': a, \n",
    "        'test_on': targetSessionIndex,  \n",
    "        'r2': r2[n]           \n",
    "    }))\n",
    "result.reset_index(inplace=True, drop=True)\n",
    "\n",
    "result.to_csv('./results/finetune.csv', index=False, header=True)"
   ]
  }
 ],
 "metadata": {
  "kernelspec": {
   "display_name": "Python 3",
   "language": "python",
   "name": "python3"
  },
  "language_info": {
   "codemirror_mode": {
    "name": "ipython",
    "version": 3
   },
   "file_extension": ".py",
   "mimetype": "text/x-python",
   "name": "python",
   "nbconvert_exporter": "python",
   "pygments_lexer": "ipython3",
   "version": "3.8.8"
  }
 },
 "nbformat": 4,
 "nbformat_minor": 4
}
