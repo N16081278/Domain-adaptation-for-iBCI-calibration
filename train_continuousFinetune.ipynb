{
 "cells": [
  {
   "cell_type": "markdown",
   "metadata": {},
   "source": [
    "# continuous Fine-tune (在第一個session訓練，於之後的模型微調)"
   ]
  },
  {
   "cell_type": "code",
   "execution_count": 1,
   "metadata": {},
   "outputs": [],
   "source": [
    "import tensorflow as tf\n",
    "import tensorflow.keras as keras\n",
    "import numpy as np\n",
    "import pandas as pd\n",
    "import os\n",
    "from sklearn.metrics import r2_score\n",
    "\n",
    "from dataPreprocess import read_dataset\n",
    "from model_tf import simpleDecodeModel"
   ]
  },
  {
   "cell_type": "code",
   "execution_count": 2,
   "metadata": {},
   "outputs": [],
   "source": [
    "folderPath = './data'\n",
    "fileList = sorted([i for i in os.listdir(folderPath) if i.endswith('.pkl.zip')])"
   ]
  },
  {
   "cell_type": "code",
   "execution_count": 3,
   "metadata": {},
   "outputs": [],
   "source": [
    "n_epoch = 100"
   ]
  },
  {
   "cell_type": "code",
   "execution_count": 4,
   "metadata": {},
   "outputs": [],
   "source": [
    "def retrain(train_x, train_y):\n",
    "    model = simpleDecodeModel()\n",
    "    model.compile(loss='mse', optimizer='adam', run_eagerly=True)\n",
    "    \n",
    "    train_x = sourceDataset['m1'][:5000]\n",
    "    train_y = sourceDataset['movement'][:5000]\n",
    "    model.fit(x=train_x, y=train_y, batch_size=256, epochs=n_epoch, verbose=1, shuffle=True)\n",
    "\n",
    "    return model"
   ]
  },
  {
   "cell_type": "code",
   "execution_count": 5,
   "metadata": {},
   "outputs": [],
   "source": [
    "def fintune(model, train_x, train_y):   \n",
    "    train_x = targetDataset['m1'][:5000]\n",
    "    train_y = targetDataset['movement'][:5000]\n",
    "\n",
    "    model.fit(x=train_x, y=train_y, batch_size=256, epochs=n_epoch, verbose=1, shuffle=True)\n",
    "    \n",
    "    return model\n"
   ]
  },
  {
   "cell_type": "code",
   "execution_count": 6,
   "metadata": {},
   "outputs": [],
   "source": [
    "def test(model, test_x, test_y):\n",
    "    pred = model.predict(test_x)\n",
    "\n",
    "    r2 = [r2_score(y_pred=pred[:, i], y_true=test_y[:, i]) for i in range(pred.shape[-1])]\n",
    "\n",
    "    return r2"
   ]
  },
  {
   "cell_type": "code",
   "execution_count": 7,
   "metadata": {},
   "outputs": [],
   "source": [
    "results = []"
   ]
  },
  {
   "cell_type": "code",
   "execution_count": 8,
   "metadata": {},
   "outputs": [
    {
     "name": "stdout",
     "output_type": "stream",
     "text": [
      "20/20 [==============================] - 7s 113ms/step - loss: 22.5042\n",
      "20/20 [==============================] - 0s 22ms/step - loss: 40.1526\n",
      "20/20 [==============================] - 2s 115ms/step - loss: 36.6404\n"
     ]
    }
   ],
   "source": [
    "for sourceSessionIndex in range(1):\n",
    "    targetSessionIndex = sourceSessionIndex + 1    \n",
    "    \n",
    "    sourceSession = fileList[sourceSessionIndex]\n",
    "    sourceDataset = read_dataset(os.path.join(folderPath, sourceSession), ['velocity_x', 'velocity_y'])\n",
    "\n",
    "    targetSession = fileList[targetSessionIndex]\n",
    "    targetDataset = read_dataset(os.path.join(folderPath, targetSession), ['velocity_x', 'velocity_y'])\n",
    "\n",
    "    model_retrain = retrain(train_x=sourceDataset['m1'][:5000, -5:, :], train_y=sourceDataset['movement'][:5000, :])\n",
    "\n",
    "    # 使用前喔session的模型，在當前片段finetune\n",
    "    model_single = simpleDecodeModel()\n",
    "    model_single(tf.zeros([1, 5, 96])) # create weight\n",
    "\n",
    "    model_single.set_weights(model_retrain.get_weights()) \n",
    "    model_single.compile(loss='mse', optimizer='adam', run_eagerly=True)\n",
    "\n",
    "    model_single = fintune(model=model_single, \\\n",
    "        train_x=targetDataset['m1'][:5000, -5:, :], \\\n",
    "        train_y=targetDataset['movement'][:5000, :])\n",
    "    \n",
    "    # 使用第一個session的模型，不斷finetune至當前session\n",
    "    if sourceSessionIndex == 0:\n",
    "        model_continue = simpleDecodeModel()\n",
    "        model_continue(tf.zeros([1, 5, 96])) # create weight\n",
    "\n",
    "        model_continue.set_weights(model_retrain.get_weights()) \n",
    "        model_continue.compile(loss='mse', optimizer='adam', run_eagerly=True)\n",
    "    \n",
    "    model_continue = fintune(model=model_continue, \\\n",
    "        train_x=targetDataset['m1'][:5000, -5:, :], \\\n",
    "        train_y=targetDataset['movement'][:5000, :])\n",
    "\n",
    "    \n",
    "    ######################################################################\n",
    "    # test\n",
    "    test_x = targetDataset['m1'][5000:, -5:, :]\n",
    "    test_y = targetDataset['movement'][5000:]\n",
    "\n",
    "    r2_retrain = test(model_retrain, test_x, test_y)\n",
    "    r2_finetune_single = test(model_single, test_x, test_y)\n",
    "    r2_finetune_continue = test(model_continue, test_x, test_y)\n",
    "\n",
    "\n",
    "    ######################################################################\n",
    "    # save\n",
    "    for axis_idx, axis in enumerate(['x', 'y']):\n",
    "        results.append(['Finetune_Continuous', 'velocity', axis, r2_finetune_continue[axis_idx], \\\n",
    "            sourceSessionIndex, targetSessionIndex])\n",
    "        results.append(['Finetune_Single', 'velocity', axis, r2_finetune_single[axis_idx], \\\n",
    "            sourceSessionIndex, targetSessionIndex])\n",
    "        results.append(['Retrain', 'velocity', axis, r2_retrain[axis_idx], \\\n",
    "            sourceSessionIndex, targetSessionIndex])"
   ]
  },
  {
   "cell_type": "code",
   "execution_count": 9,
   "metadata": {},
   "outputs": [],
   "source": [
    "cols = ['method', 'movement', 'axis', 'r_square', 'sourceIndex', 'targetIndex']\n",
    "results = pd.DataFrame(results, columns=cols)"
   ]
  },
  {
   "cell_type": "code",
   "execution_count": 10,
   "metadata": {},
   "outputs": [
    {
     "data": {
      "text/html": [
       "<div>\n",
       "<style scoped>\n",
       "    .dataframe tbody tr th:only-of-type {\n",
       "        vertical-align: middle;\n",
       "    }\n",
       "\n",
       "    .dataframe tbody tr th {\n",
       "        vertical-align: top;\n",
       "    }\n",
       "\n",
       "    .dataframe thead th {\n",
       "        text-align: right;\n",
       "    }\n",
       "</style>\n",
       "<table border=\"1\" class=\"dataframe\">\n",
       "  <thead>\n",
       "    <tr style=\"text-align: right;\">\n",
       "      <th></th>\n",
       "      <th>method</th>\n",
       "      <th>movement</th>\n",
       "      <th>axis</th>\n",
       "      <th>r_square</th>\n",
       "      <th>sourceIndex</th>\n",
       "      <th>targetIndex</th>\n",
       "    </tr>\n",
       "  </thead>\n",
       "  <tbody>\n",
       "    <tr>\n",
       "      <th>0</th>\n",
       "      <td>Finetune_Continuous</td>\n",
       "      <td>velocity</td>\n",
       "      <td>x</td>\n",
       "      <td>0.503748</td>\n",
       "      <td>0</td>\n",
       "      <td>1</td>\n",
       "    </tr>\n",
       "    <tr>\n",
       "      <th>1</th>\n",
       "      <td>Finetune_Single</td>\n",
       "      <td>velocity</td>\n",
       "      <td>x</td>\n",
       "      <td>0.353961</td>\n",
       "      <td>0</td>\n",
       "      <td>1</td>\n",
       "    </tr>\n",
       "    <tr>\n",
       "      <th>2</th>\n",
       "      <td>Retrain</td>\n",
       "      <td>velocity</td>\n",
       "      <td>x</td>\n",
       "      <td>0.342568</td>\n",
       "      <td>0</td>\n",
       "      <td>1</td>\n",
       "    </tr>\n",
       "    <tr>\n",
       "      <th>3</th>\n",
       "      <td>Finetune_Continuous</td>\n",
       "      <td>velocity</td>\n",
       "      <td>y</td>\n",
       "      <td>0.329348</td>\n",
       "      <td>0</td>\n",
       "      <td>1</td>\n",
       "    </tr>\n",
       "    <tr>\n",
       "      <th>4</th>\n",
       "      <td>Finetune_Single</td>\n",
       "      <td>velocity</td>\n",
       "      <td>y</td>\n",
       "      <td>0.319739</td>\n",
       "      <td>0</td>\n",
       "      <td>1</td>\n",
       "    </tr>\n",
       "    <tr>\n",
       "      <th>5</th>\n",
       "      <td>Retrain</td>\n",
       "      <td>velocity</td>\n",
       "      <td>y</td>\n",
       "      <td>0.140752</td>\n",
       "      <td>0</td>\n",
       "      <td>1</td>\n",
       "    </tr>\n",
       "  </tbody>\n",
       "</table>\n",
       "</div>"
      ],
      "text/plain": [
       "                method  movement axis  r_square  sourceIndex  targetIndex\n",
       "0  Finetune_Continuous  velocity    x  0.503748            0            1\n",
       "1      Finetune_Single  velocity    x  0.353961            0            1\n",
       "2              Retrain  velocity    x  0.342568            0            1\n",
       "3  Finetune_Continuous  velocity    y  0.329348            0            1\n",
       "4      Finetune_Single  velocity    y  0.319739            0            1\n",
       "5              Retrain  velocity    y  0.140752            0            1"
      ]
     },
     "execution_count": 10,
     "metadata": {},
     "output_type": "execute_result"
    }
   ],
   "source": [
    "results"
   ]
  },
  {
   "cell_type": "markdown",
   "metadata": {},
   "source": [
    "# 畫圖"
   ]
  },
  {
   "cell_type": "markdown",
   "metadata": {},
   "source": [
    "## 結果預覽"
   ]
  },
  {
   "cell_type": "markdown",
   "metadata": {},
   "source": [
    "![](./figures/fffffinetune.png)"
   ]
  },
  {
   "cell_type": "markdown",
   "metadata": {},
   "source": [
    "## 程式碼們"
   ]
  },
  {
   "cell_type": "code",
   "execution_count": 11,
   "metadata": {},
   "outputs": [],
   "source": [
    "import seaborn as sns\n",
    "import matplotlib.pyplot as plt\n",
    "\n",
    "sns.set_theme(style='whitegrid', font_scale=2)"
   ]
  },
  {
   "cell_type": "code",
   "execution_count": 13,
   "metadata": {},
   "outputs": [
    {
     "data": {
      "text/plain": [
       "<seaborn.axisgrid.FacetGrid at 0x1d65aad85e0>"
      ]
     },
     "execution_count": 13,
     "metadata": {},
     "output_type": "execute_result"
    },
    {
     "data": {
      "image/png": "[encoded data removed]",
      "text/plain": [
       "<Figure size 1368.45x720 with 2 Axes>"
      ]
     },
     "metadata": {},
     "output_type": "display_data"
    }
   ],
   "source": [
    "df = results\n",
    "\n",
    "g = sns.catplot(kind='bar', data=df, x='targetIndex', y='r_square', hue='method', row='axis', aspect=3, height=5)\n",
    "g.set(ylabel='$R^2$', xlabel='session')"
   ]
  }
 ],
 "metadata": {
  "interpreter": {
   "hash": "dc4e6c621ea21b093738e2f0d9bac4ed146b02f4efea8205af9fdd51340ca594"
  },
  "kernelspec": {
   "display_name": "Python 3",
   "language": "python",
   "name": "python3"
  },
  "language_info": {
   "codemirror_mode": {
    "name": "ipython",
    "version": 3
   },
   "file_extension": ".py",
   "mimetype": "text/x-python",
   "name": "python",
   "nbconvert_exporter": "python",
   "pygments_lexer": "ipython3",
   "version": "3.8.8"
  }
 },
 "nbformat": 4,
 "nbformat_minor": 4
}
