{
 "cells": [
  {
   "cell_type": "markdown",
   "metadata": {},
   "source": [
    "# cross session之訓練與預測(串聯2個相鄰session, source&target)"
   ]
  },
  {
   "cell_type": "code",
   "execution_count": null,
   "metadata": {},
   "outputs": [],
   "source": [
    "import numpy as np\n",
    "import pandas as pd\n",
    "import os\n",
    "from sklearn.metrics import r2_score\n",
    "from dataPreprocess import read_dataset"
   ]
  },
  {
   "cell_type": "code",
   "execution_count": null,
   "metadata": {},
   "outputs": [],
   "source": [
    "sourceSessionIndex = 15\n",
    "targetSessionIndex = 16"
   ]
  },
  {
   "cell_type": "code",
   "execution_count": null,
   "metadata": {},
   "outputs": [],
   "source": [
    "folderPath = './data'\n",
    "fileList = sorted([i for i in os.listdir(folderPath) if i.endswith('.pkl.zip')])"
   ]
  },
  {
   "cell_type": "code",
   "execution_count": null,
   "metadata": {},
   "outputs": [],
   "source": [
    "sourceSession = fileList[sourceSessionIndex]\n",
    "targetSession = fileList[targetSessionIndex]"
   ]
  },
  {
   "cell_type": "code",
   "execution_count": null,
   "metadata": {},
   "outputs": [],
   "source": [
    "sourceDataset = read_dataset(os.path.join(folderPath, sourceSession), ['velocity_x', 'velocity_y'])\n",
    "targetDataset = read_dataset(os.path.join(folderPath, targetSession), ['velocity_x', 'velocity_y'])"
   ]
  },
  {
   "cell_type": "code",
   "execution_count": null,
   "metadata": {},
   "outputs": [],
   "source": [
    "from model_tf import simpleDecodeModel\n",
    "\n",
    "model = simpleDecodeModel()\n",
    "model.compile(optimizer='adam', loss='mse')"
   ]
  },
  {
   "cell_type": "code",
   "execution_count": null,
   "metadata": {},
   "outputs": [],
   "source": [
    "TRAIN_COUNT = 5000\n",
    "\n",
    "train_x = np.concatenate((targetDataset['m1'][:TRAIN_COUNT, -5:, :], sourceDataset['m1'][:TRAIN_COUNT, -5:, :]), axis=0)\n",
    "train_y = np.concatenate((targetDataset['movement'][:TRAIN_COUNT], sourceDataset['movement'][:TRAIN_COUNT]), axis=0)\n",
    "test_x = targetDataset['m1'][TRAIN_COUNT:, -5:, :]\n",
    "test_y = targetDataset['movement'][TRAIN_COUNT:]\n",
    "\n",
    "test_timestamp = targetDataset['timestamp'][TRAIN_COUNT:]"
   ]
  },
  {
   "cell_type": "code",
   "execution_count": null,
   "metadata": {},
   "outputs": [],
   "source": [
    "# z-score\n",
    "train_y_mean, train_y_std = np.mean(train_y, axis=0), np.std(train_y, axis=0)\n",
    "train_y = (train_y - train_y_mean) / train_y_std\n",
    "test_y = (test_y - train_y_mean) / train_y_std"
   ]
  },
  {
   "cell_type": "code",
   "execution_count": null,
   "metadata": {},
   "outputs": [],
   "source": [
    "# train\n",
    "model.fit(x=train_x, y=train_y, batch_size=128, epochs=100, shuffle=True, verbose=0)"
   ]
  },
  {
   "cell_type": "code",
   "execution_count": null,
   "metadata": {},
   "outputs": [],
   "source": [
    "# pred\n",
    "pred = model.predict(x=test_x)"
   ]
  },
  {
   "cell_type": "code",
   "execution_count": null,
   "metadata": {},
   "outputs": [],
   "source": [
    "# 還原\n",
    "pred = pred * train_y_std + train_y_mean\n",
    "test_y = test_y * train_y_std + train_y_mean"
   ]
  },
  {
   "cell_type": "code",
   "execution_count": null,
   "metadata": {},
   "outputs": [],
   "source": [
    "# 計算R2\n",
    "r2 = [r2_score(y_pred=pred[:, i], y_true=test_y[:, i]) for i in range(pred.shape[-1])]\n",
    "print('vx:', r2[0])\n",
    "print('vy:', r2[1])"
   ]
  },
  {
   "cell_type": "code",
   "execution_count": null,
   "metadata": {},
   "outputs": [],
   "source": [
    "# 輸出\n",
    "result = pd.DataFrame(columns=[])\n",
    "axis = ['x', 'y']\n",
    "for n, a in enumerate(axis):\n",
    "    result = result.append(pd.DataFrame({\n",
    "        'timestamp': test_timestamp,\n",
    "        'value': test_y[:, n],\n",
    "        'type': 'groundtruth',   \n",
    "        'movement': 'velocity',\n",
    "        'axis': a,          \n",
    "        'test_on': targetSessionIndex,\n",
    "        'r2': r2[n]     \n",
    "    }))\n",
    "    result = result.append(pd.DataFrame({\n",
    "        'timestamp': test_timestamp,\n",
    "        'value': pred[:, n],\n",
    "        'type': 'prediction',   \n",
    "        'movement': 'velocity',\n",
    "        'axis': a, \n",
    "        'test_on': targetSessionIndex,  \n",
    "        'r2': r2[n]           \n",
    "    }))\n",
    "result.reset_index(inplace=True, drop=True)\n",
    "\n",
    "result.to_csv('./results/trainOnMix.csv', index=False, header=True)"
   ]
  }
 ],
 "metadata": {
  "interpreter": {
   "hash": "dc4e6c621ea21b093738e2f0d9bac4ed146b02f4efea8205af9fdd51340ca594"
  },
  "kernelspec": {
   "display_name": "Python 3",
   "language": "python",
   "name": "python3"
  },
  "language_info": {
   "codemirror_mode": {
    "name": "ipython",
    "version": 3
   },
   "file_extension": ".py",
   "mimetype": "text/x-python",
   "name": "python",
   "nbconvert_exporter": "python",
   "pygments_lexer": "ipython3",
   "version": "3.8.8"
  }
 },
 "nbformat": 4,
 "nbformat_minor": 4
}
