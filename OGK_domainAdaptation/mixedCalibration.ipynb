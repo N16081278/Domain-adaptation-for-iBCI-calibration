{
 "cells": [
  {
   "cell_type": "code",
   "execution_count": 5,
   "id": "80aaf71e",
   "metadata": {},
   "outputs": [],
   "source": [
    "import numpy as np\n",
    "import pandas as pd\n",
    "import torch\n",
    "import train\n",
    "import dataloader\n",
    "from utils import get_free_gpu\n",
    "import testt\n",
    "import seaborn as sns\n",
    "import matplotlib.pyplot as plt\n",
    "import param\n",
    "import model"
   ]
  },
  {
   "cell_type": "code",
   "execution_count": 6,
   "id": "f18e4904",
   "metadata": {},
   "outputs": [
    {
     "name": "stdout",
     "output_type": "stream",
     "text": [
      "source:  1\n",
      "target:  2\n",
      "\n",
      "Session= 1\n",
      "Dataset : /home/jovyan/dataset/indy/Sorted_Spike_Dataset/indy_20160407_02.mat\n",
      "Unsort Data shape: (12776, 96)\n",
      "\n",
      "Session= 2\n",
      "Dataset : /home/jovyan/dataset/indy/Sorted_Spike_Dataset/indy_20160411_01.mat\n",
      "Unsort Data shape: (14893, 96)\n",
      "Running GPU : 0\n",
      "Training\n"
     ]
    },
    {
     "name": "stderr",
     "output_type": "stream",
     "text": [
      "/opt/conda/lib/python3.8/site-packages/torch/nn/modules/rnn.py:60: UserWarning: dropout option adds dropout after all but last recurrent layer, so non-zero dropout expects num_layers greater than 1, but got dropout=0.2 and num_layers=1\n",
      "  warnings.warn(\"dropout option adds dropout after all but last \"\n"
     ]
    },
    {
     "name": "stdout",
     "output_type": "stream",
     "text": [
      "Model test ...\n",
      "R2x :  0.732301692032686\n",
      "R2y :  0.7509558446292487\n",
      "source:  2\n",
      "target:  3\n",
      "\n",
      "Session= 2\n",
      "Dataset : /home/jovyan/dataset/indy/Sorted_Spike_Dataset/indy_20160411_01.mat\n",
      "Unsort Data shape: (14893, 96)\n",
      "\n",
      "Session= 3\n",
      "Dataset : /home/jovyan/dataset/indy/Sorted_Spike_Dataset/indy_20160411_02.mat\n",
      "Unsort Data shape: (13748, 96)\n",
      "Running GPU : 0\n",
      "Training\n"
     ]
    },
    {
     "name": "stderr",
     "output_type": "stream",
     "text": [
      "/opt/conda/lib/python3.8/site-packages/torch/nn/modules/rnn.py:60: UserWarning: dropout option adds dropout after all but last recurrent layer, so non-zero dropout expects num_layers greater than 1, but got dropout=0.2 and num_layers=1\n",
      "  warnings.warn(\"dropout option adds dropout after all but last \"\n"
     ]
    },
    {
     "name": "stdout",
     "output_type": "stream",
     "text": [
      "Model test ...\n",
      "R2x :  0.7353252370680825\n",
      "R2y :  0.778037230997302\n",
      "source:  3\n",
      "target:  4\n",
      "\n",
      "Session= 3\n",
      "Dataset : /home/jovyan/dataset/indy/Sorted_Spike_Dataset/indy_20160411_02.mat\n",
      "Unsort Data shape: (13748, 96)\n",
      "\n",
      "Session= 4\n",
      "Dataset : /home/jovyan/dataset/indy/Sorted_Spike_Dataset/indy_20160418_01.mat\n",
      "Unsort Data shape: (21211, 96)\n",
      "Running GPU : 0\n",
      "Training\n"
     ]
    },
    {
     "name": "stderr",
     "output_type": "stream",
     "text": [
      "/opt/conda/lib/python3.8/site-packages/torch/nn/modules/rnn.py:60: UserWarning: dropout option adds dropout after all but last recurrent layer, so non-zero dropout expects num_layers greater than 1, but got dropout=0.2 and num_layers=1\n",
      "  warnings.warn(\"dropout option adds dropout after all but last \"\n"
     ]
    },
    {
     "name": "stdout",
     "output_type": "stream",
     "text": [
      "Model test ...\n",
      "R2x :  0.734086373123428\n",
      "R2y :  0.7578624384593867\n",
      "source:  4\n",
      "target:  5\n",
      "\n",
      "Session= 4\n",
      "Dataset : /home/jovyan/dataset/indy/Sorted_Spike_Dataset/indy_20160418_01.mat\n",
      "Unsort Data shape: (21211, 96)\n",
      "\n",
      "Session= 5\n",
      "Dataset : /home/jovyan/dataset/indy/Sorted_Spike_Dataset/indy_20160419_01.mat\n",
      "Unsort Data shape: (8186, 96)\n",
      "Running GPU : 0\n",
      "Training\n"
     ]
    },
    {
     "name": "stderr",
     "output_type": "stream",
     "text": [
      "/opt/conda/lib/python3.8/site-packages/torch/nn/modules/rnn.py:60: UserWarning: dropout option adds dropout after all but last recurrent layer, so non-zero dropout expects num_layers greater than 1, but got dropout=0.2 and num_layers=1\n",
      "  warnings.warn(\"dropout option adds dropout after all but last \"\n"
     ]
    },
    {
     "name": "stdout",
     "output_type": "stream",
     "text": [
      "Model test ...\n",
      "R2x :  0.7474392814241013\n",
      "R2y :  0.6980988396879955\n",
      "source:  5\n",
      "target:  6\n",
      "\n",
      "Session= 5\n",
      "Dataset : /home/jovyan/dataset/indy/Sorted_Spike_Dataset/indy_20160419_01.mat\n",
      "Unsort Data shape: (8186, 96)\n",
      "\n",
      "Session= 6\n",
      "Dataset : /home/jovyan/dataset/indy/Sorted_Spike_Dataset/indy_20160420_01.mat\n",
      "Unsort Data shape: (24267, 96)\n",
      "Running GPU : 0\n",
      "Training\n"
     ]
    },
    {
     "name": "stderr",
     "output_type": "stream",
     "text": [
      "/opt/conda/lib/python3.8/site-packages/torch/nn/modules/rnn.py:60: UserWarning: dropout option adds dropout after all but last recurrent layer, so non-zero dropout expects num_layers greater than 1, but got dropout=0.2 and num_layers=1\n",
      "  warnings.warn(\"dropout option adds dropout after all but last \"\n"
     ]
    },
    {
     "name": "stdout",
     "output_type": "stream",
     "text": [
      "Model test ...\n",
      "R2x :  0.7564541390619245\n",
      "R2y :  0.7625808082783594\n",
      "source:  6\n",
      "target:  7\n",
      "\n",
      "Session= 6\n",
      "Dataset : /home/jovyan/dataset/indy/Sorted_Spike_Dataset/indy_20160420_01.mat\n",
      "Unsort Data shape: (24267, 96)\n",
      "\n",
      "Session= 7\n",
      "Dataset : /home/jovyan/dataset/indy/Sorted_Spike_Dataset/indy_20160426_01.mat\n",
      "Unsort Data shape: (27531, 96)\n",
      "Running GPU : 0\n",
      "Training\n"
     ]
    },
    {
     "name": "stderr",
     "output_type": "stream",
     "text": [
      "/opt/conda/lib/python3.8/site-packages/torch/nn/modules/rnn.py:60: UserWarning: dropout option adds dropout after all but last recurrent layer, so non-zero dropout expects num_layers greater than 1, but got dropout=0.2 and num_layers=1\n",
      "  warnings.warn(\"dropout option adds dropout after all but last \"\n"
     ]
    },
    {
     "name": "stdout",
     "output_type": "stream",
     "text": [
      "Model test ...\n",
      "R2x :  0.7741557961873808\n",
      "R2y :  0.7361242085681665\n",
      "source:  7\n",
      "target:  8\n",
      "\n",
      "Session= 7\n",
      "Dataset : /home/jovyan/dataset/indy/Sorted_Spike_Dataset/indy_20160426_01.mat\n",
      "Unsort Data shape: (27531, 96)\n",
      "\n",
      "Session= 8\n",
      "Dataset : /home/jovyan/dataset/indy/Sorted_Spike_Dataset/indy_20160622_01.mat\n",
      "Unsort Data shape: (38275, 96)\n",
      "Running GPU : 0\n",
      "Training\n"
     ]
    },
    {
     "name": "stderr",
     "output_type": "stream",
     "text": [
      "/opt/conda/lib/python3.8/site-packages/torch/nn/modules/rnn.py:60: UserWarning: dropout option adds dropout after all but last recurrent layer, so non-zero dropout expects num_layers greater than 1, but got dropout=0.2 and num_layers=1\n",
      "  warnings.warn(\"dropout option adds dropout after all but last \"\n"
     ]
    },
    {
     "name": "stdout",
     "output_type": "stream",
     "text": [
      "Model test ...\n",
      "R2x :  0.6328902849729292\n",
      "R2y :  0.5967358465349777\n",
      "source:  8\n",
      "target:  9\n",
      "\n",
      "Session= 8\n",
      "Dataset : /home/jovyan/dataset/indy/Sorted_Spike_Dataset/indy_20160622_01.mat\n",
      "Unsort Data shape: (38275, 96)\n",
      "\n",
      "Session= 9\n",
      "Dataset : /home/jovyan/dataset/indy/Sorted_Spike_Dataset/indy_20160624_03.mat\n",
      "Unsort Data shape: (7811, 96)\n",
      "Running GPU : 0\n",
      "Training\n"
     ]
    },
    {
     "name": "stderr",
     "output_type": "stream",
     "text": [
      "/opt/conda/lib/python3.8/site-packages/torch/nn/modules/rnn.py:60: UserWarning: dropout option adds dropout after all but last recurrent layer, so non-zero dropout expects num_layers greater than 1, but got dropout=0.2 and num_layers=1\n",
      "  warnings.warn(\"dropout option adds dropout after all but last \"\n"
     ]
    },
    {
     "name": "stdout",
     "output_type": "stream",
     "text": [
      "Model test ...\n",
      "R2x :  0.6572806039643053\n",
      "R2y :  0.7618584809285057\n",
      "source:  9\n",
      "target:  10\n",
      "\n",
      "Session= 9\n",
      "Dataset : /home/jovyan/dataset/indy/Sorted_Spike_Dataset/indy_20160624_03.mat\n",
      "Unsort Data shape: (7811, 96)\n",
      "\n",
      "Session= 10\n",
      "Dataset : /home/jovyan/dataset/indy/Sorted_Spike_Dataset/indy_20160627_01.mat\n",
      "Unsort Data shape: (52545, 96)\n",
      "Running GPU : 0\n",
      "Training\n"
     ]
    },
    {
     "name": "stderr",
     "output_type": "stream",
     "text": [
      "/opt/conda/lib/python3.8/site-packages/torch/nn/modules/rnn.py:60: UserWarning: dropout option adds dropout after all but last recurrent layer, so non-zero dropout expects num_layers greater than 1, but got dropout=0.2 and num_layers=1\n",
      "  warnings.warn(\"dropout option adds dropout after all but last \"\n"
     ]
    },
    {
     "name": "stdout",
     "output_type": "stream",
     "text": [
      "Model test ...\n",
      "R2x :  0.6588047645577961\n",
      "R2y :  0.8120156479071358\n",
      "source:  10\n",
      "target:  11\n",
      "\n",
      "Session= 10\n",
      "Dataset : /home/jovyan/dataset/indy/Sorted_Spike_Dataset/indy_20160627_01.mat\n",
      "Unsort Data shape: (52545, 96)\n",
      "\n",
      "Session= 11\n",
      "Dataset : /home/jovyan/dataset/indy/Sorted_Spike_Dataset/indy_20160630_01.mat\n",
      "Unsort Data shape: (22862, 96)\n",
      "Running GPU : 0\n",
      "Training\n"
     ]
    },
    {
     "name": "stderr",
     "output_type": "stream",
     "text": [
      "/opt/conda/lib/python3.8/site-packages/torch/nn/modules/rnn.py:60: UserWarning: dropout option adds dropout after all but last recurrent layer, so non-zero dropout expects num_layers greater than 1, but got dropout=0.2 and num_layers=1\n",
      "  warnings.warn(\"dropout option adds dropout after all but last \"\n"
     ]
    },
    {
     "name": "stdout",
     "output_type": "stream",
     "text": [
      "Model test ...\n",
      "R2x :  0.5570155046717724\n",
      "R2y :  0.7322549608532132\n",
      "source:  11\n",
      "target:  12\n",
      "\n",
      "Session= 11\n",
      "Dataset : /home/jovyan/dataset/indy/Sorted_Spike_Dataset/indy_20160630_01.mat\n",
      "Unsort Data shape: (22862, 96)\n",
      "\n",
      "Session= 12\n",
      "Dataset : /home/jovyan/dataset/indy/Sorted_Spike_Dataset/indy_20160915_01.mat\n",
      "Unsort Data shape: (5952, 96)\n",
      "Running GPU : 0\n",
      "Training\n"
     ]
    },
    {
     "name": "stderr",
     "output_type": "stream",
     "text": [
      "/opt/conda/lib/python3.8/site-packages/torch/nn/modules/rnn.py:60: UserWarning: dropout option adds dropout after all but last recurrent layer, so non-zero dropout expects num_layers greater than 1, but got dropout=0.2 and num_layers=1\n",
      "  warnings.warn(\"dropout option adds dropout after all but last \"\n"
     ]
    },
    {
     "name": "stdout",
     "output_type": "stream",
     "text": [
      "Model test ...\n",
      "R2x :  0.662708019530375\n",
      "R2y :  0.7827368514767357\n",
      "source:  12\n",
      "target:  13\n",
      "\n",
      "Session= 12\n",
      "Dataset : /home/jovyan/dataset/indy/Sorted_Spike_Dataset/indy_20160915_01.mat\n",
      "Unsort Data shape: (5952, 96)\n",
      "\n",
      "Session= 13\n",
      "Dataset : /home/jovyan/dataset/indy/Sorted_Spike_Dataset/indy_20160916_01.mat\n",
      "Unsort Data shape: (7058, 96)\n",
      "Running GPU : 0\n",
      "Training\n"
     ]
    },
    {
     "name": "stderr",
     "output_type": "stream",
     "text": [
      "/opt/conda/lib/python3.8/site-packages/torch/nn/modules/rnn.py:60: UserWarning: dropout option adds dropout after all but last recurrent layer, so non-zero dropout expects num_layers greater than 1, but got dropout=0.2 and num_layers=1\n",
      "  warnings.warn(\"dropout option adds dropout after all but last \"\n"
     ]
    },
    {
     "name": "stdout",
     "output_type": "stream",
     "text": [
      "Model test ...\n",
      "R2x :  0.7751088543031253\n",
      "R2y :  0.850292138347654\n",
      "source:  13\n",
      "target:  14\n",
      "\n",
      "Session= 13\n",
      "Dataset : /home/jovyan/dataset/indy/Sorted_Spike_Dataset/indy_20160916_01.mat\n",
      "Unsort Data shape: (7058, 96)\n",
      "\n",
      "Session= 14\n",
      "Dataset : /home/jovyan/dataset/indy/Sorted_Spike_Dataset/indy_20160921_01.mat\n",
      "Unsort Data shape: (5626, 96)\n",
      "Running GPU : 0\n",
      "Training\n"
     ]
    },
    {
     "name": "stderr",
     "output_type": "stream",
     "text": [
      "/opt/conda/lib/python3.8/site-packages/torch/nn/modules/rnn.py:60: UserWarning: dropout option adds dropout after all but last recurrent layer, so non-zero dropout expects num_layers greater than 1, but got dropout=0.2 and num_layers=1\n",
      "  warnings.warn(\"dropout option adds dropout after all but last \"\n"
     ]
    },
    {
     "name": "stdout",
     "output_type": "stream",
     "text": [
      "Model test ...\n",
      "R2x :  0.7270228319791641\n",
      "R2y :  0.8161318414741233\n",
      "source:  14\n",
      "target:  15\n",
      "\n",
      "Session= 14\n",
      "Dataset : /home/jovyan/dataset/indy/Sorted_Spike_Dataset/indy_20160921_01.mat\n",
      "Unsort Data shape: (5626, 96)\n",
      "\n",
      "Session= 15\n",
      "Dataset : /home/jovyan/dataset/indy/Sorted_Spike_Dataset/indy_20160927_04.mat\n",
      "Unsort Data shape: (6082, 96)\n",
      "Running GPU : 0\n",
      "Training\n"
     ]
    },
    {
     "name": "stderr",
     "output_type": "stream",
     "text": [
      "/opt/conda/lib/python3.8/site-packages/torch/nn/modules/rnn.py:60: UserWarning: dropout option adds dropout after all but last recurrent layer, so non-zero dropout expects num_layers greater than 1, but got dropout=0.2 and num_layers=1\n",
      "  warnings.warn(\"dropout option adds dropout after all but last \"\n"
     ]
    },
    {
     "name": "stdout",
     "output_type": "stream",
     "text": [
      "Model test ...\n",
      "R2x :  0.7476049898256635\n",
      "R2y :  0.8546513142391587\n",
      "source:  15\n",
      "target:  16\n",
      "\n",
      "Session= 15\n",
      "Dataset : /home/jovyan/dataset/indy/Sorted_Spike_Dataset/indy_20160927_04.mat\n",
      "Unsort Data shape: (6082, 96)\n",
      "\n",
      "Session= 16\n",
      "Dataset : /home/jovyan/dataset/indy/Sorted_Spike_Dataset/indy_20160927_06.mat\n",
      "Unsort Data shape: (6577, 96)\n",
      "Running GPU : 0\n",
      "Training\n"
     ]
    },
    {
     "name": "stderr",
     "output_type": "stream",
     "text": [
      "/opt/conda/lib/python3.8/site-packages/torch/nn/modules/rnn.py:60: UserWarning: dropout option adds dropout after all but last recurrent layer, so non-zero dropout expects num_layers greater than 1, but got dropout=0.2 and num_layers=1\n",
      "  warnings.warn(\"dropout option adds dropout after all but last \"\n"
     ]
    },
    {
     "name": "stdout",
     "output_type": "stream",
     "text": [
      "Model test ...\n",
      "R2x :  0.7640959207538588\n",
      "R2y :  0.8215979885109568\n",
      "source:  16\n",
      "target:  17\n",
      "\n",
      "Session= 16\n",
      "Dataset : /home/jovyan/dataset/indy/Sorted_Spike_Dataset/indy_20160927_06.mat\n",
      "Unsort Data shape: (6577, 96)\n",
      "\n",
      "Session= 17\n",
      "Dataset : /home/jovyan/dataset/indy/Sorted_Spike_Dataset/indy_20160930_02.mat\n",
      "Unsort Data shape: (7198, 96)\n",
      "Running GPU : 0\n",
      "Training\n"
     ]
    },
    {
     "name": "stderr",
     "output_type": "stream",
     "text": [
      "/opt/conda/lib/python3.8/site-packages/torch/nn/modules/rnn.py:60: UserWarning: dropout option adds dropout after all but last recurrent layer, so non-zero dropout expects num_layers greater than 1, but got dropout=0.2 and num_layers=1\n",
      "  warnings.warn(\"dropout option adds dropout after all but last \"\n"
     ]
    },
    {
     "name": "stdout",
     "output_type": "stream",
     "text": [
      "Model test ...\n",
      "R2x :  0.7344937218326848\n",
      "R2y :  0.7882999362267231\n",
      "source:  17\n",
      "target:  18\n",
      "\n",
      "Session= 17\n",
      "Dataset : /home/jovyan/dataset/indy/Sorted_Spike_Dataset/indy_20160930_02.mat\n",
      "Unsort Data shape: (7198, 96)\n",
      "\n",
      "Session= 18\n",
      "Dataset : /home/jovyan/dataset/indy/Sorted_Spike_Dataset/indy_20160930_05.mat\n",
      "Unsort Data shape: (6342, 96)\n",
      "Running GPU : 0\n",
      "Training\n"
     ]
    },
    {
     "name": "stderr",
     "output_type": "stream",
     "text": [
      "/opt/conda/lib/python3.8/site-packages/torch/nn/modules/rnn.py:60: UserWarning: dropout option adds dropout after all but last recurrent layer, so non-zero dropout expects num_layers greater than 1, but got dropout=0.2 and num_layers=1\n",
      "  warnings.warn(\"dropout option adds dropout after all but last \"\n"
     ]
    },
    {
     "name": "stdout",
     "output_type": "stream",
     "text": [
      "Model test ...\n",
      "R2x :  0.7298180896708417\n",
      "R2y :  0.8214785888642101\n",
      "source:  18\n",
      "target:  19\n",
      "\n",
      "Session= 18\n",
      "Dataset : /home/jovyan/dataset/indy/Sorted_Spike_Dataset/indy_20160930_05.mat\n",
      "Unsort Data shape: (6342, 96)\n",
      "\n",
      "Session= 19\n",
      "Dataset : /home/jovyan/dataset/indy/Sorted_Spike_Dataset/indy_20161005_06.mat\n",
      "Unsort Data shape: (5842, 96)\n",
      "Running GPU : 0\n",
      "Training\n"
     ]
    },
    {
     "name": "stderr",
     "output_type": "stream",
     "text": [
      "/opt/conda/lib/python3.8/site-packages/torch/nn/modules/rnn.py:60: UserWarning: dropout option adds dropout after all but last recurrent layer, so non-zero dropout expects num_layers greater than 1, but got dropout=0.2 and num_layers=1\n",
      "  warnings.warn(\"dropout option adds dropout after all but last \"\n"
     ]
    },
    {
     "name": "stdout",
     "output_type": "stream",
     "text": [
      "Model test ...\n",
      "R2x :  0.7283528474121749\n",
      "R2y :  0.8438167572829116\n",
      "source:  19\n",
      "target:  20\n",
      "\n",
      "Session= 19\n",
      "Dataset : /home/jovyan/dataset/indy/Sorted_Spike_Dataset/indy_20161005_06.mat\n",
      "Unsort Data shape: (5842, 96)\n",
      "\n",
      "Session= 20\n",
      "Dataset : /home/jovyan/dataset/indy/Sorted_Spike_Dataset/indy_20161006_02.mat\n",
      "Unsort Data shape: (7842, 96)\n",
      "Running GPU : 0\n",
      "Training\n"
     ]
    },
    {
     "name": "stderr",
     "output_type": "stream",
     "text": [
      "/opt/conda/lib/python3.8/site-packages/torch/nn/modules/rnn.py:60: UserWarning: dropout option adds dropout after all but last recurrent layer, so non-zero dropout expects num_layers greater than 1, but got dropout=0.2 and num_layers=1\n",
      "  warnings.warn(\"dropout option adds dropout after all but last \"\n"
     ]
    },
    {
     "name": "stdout",
     "output_type": "stream",
     "text": [
      "Model test ...\n",
      "R2x :  0.6959250811699489\n",
      "R2y :  0.7974291982860444\n",
      "source:  20\n",
      "target:  21\n",
      "\n",
      "Session= 20\n",
      "Dataset : /home/jovyan/dataset/indy/Sorted_Spike_Dataset/indy_20161006_02.mat\n",
      "Unsort Data shape: (7842, 96)\n",
      "\n",
      "Session= 21\n",
      "Dataset : /home/jovyan/dataset/indy/Sorted_Spike_Dataset/indy_20161007_02.mat\n",
      "Unsort Data shape: (7676, 96)\n",
      "Running GPU : 0\n",
      "Training\n"
     ]
    },
    {
     "name": "stderr",
     "output_type": "stream",
     "text": [
      "/opt/conda/lib/python3.8/site-packages/torch/nn/modules/rnn.py:60: UserWarning: dropout option adds dropout after all but last recurrent layer, so non-zero dropout expects num_layers greater than 1, but got dropout=0.2 and num_layers=1\n",
      "  warnings.warn(\"dropout option adds dropout after all but last \"\n"
     ]
    },
    {
     "name": "stdout",
     "output_type": "stream",
     "text": [
      "Model test ...\n",
      "R2x :  0.7336495592487683\n",
      "R2y :  0.8171256255699995\n",
      "source:  21\n",
      "target:  22\n",
      "\n",
      "Session= 21\n",
      "Dataset : /home/jovyan/dataset/indy/Sorted_Spike_Dataset/indy_20161007_02.mat\n",
      "Unsort Data shape: (7676, 96)\n",
      "\n",
      "Session= 22\n",
      "Dataset : /home/jovyan/dataset/indy/Sorted_Spike_Dataset/indy_20161011_03.mat\n",
      "Unsort Data shape: (10526, 96)\n",
      "Running GPU : 0\n",
      "Training\n"
     ]
    },
    {
     "name": "stderr",
     "output_type": "stream",
     "text": [
      "/opt/conda/lib/python3.8/site-packages/torch/nn/modules/rnn.py:60: UserWarning: dropout option adds dropout after all but last recurrent layer, so non-zero dropout expects num_layers greater than 1, but got dropout=0.2 and num_layers=1\n",
      "  warnings.warn(\"dropout option adds dropout after all but last \"\n"
     ]
    },
    {
     "name": "stdout",
     "output_type": "stream",
     "text": [
      "Model test ...\n",
      "R2x :  0.7146217938131681\n",
      "R2y :  0.7761507208286115\n",
      "source:  22\n",
      "target:  23\n",
      "\n",
      "Session= 22\n",
      "Dataset : /home/jovyan/dataset/indy/Sorted_Spike_Dataset/indy_20161011_03.mat\n",
      "Unsort Data shape: (10526, 96)\n",
      "\n",
      "Session= 23\n",
      "Dataset : /home/jovyan/dataset/indy/Sorted_Spike_Dataset/indy_20161013_03.mat\n",
      "Unsort Data shape: (8084, 96)\n",
      "Running GPU : 0\n",
      "Training\n"
     ]
    },
    {
     "name": "stderr",
     "output_type": "stream",
     "text": [
      "/opt/conda/lib/python3.8/site-packages/torch/nn/modules/rnn.py:60: UserWarning: dropout option adds dropout after all but last recurrent layer, so non-zero dropout expects num_layers greater than 1, but got dropout=0.2 and num_layers=1\n",
      "  warnings.warn(\"dropout option adds dropout after all but last \"\n"
     ]
    },
    {
     "name": "stdout",
     "output_type": "stream",
     "text": [
      "Model test ...\n",
      "R2x :  0.714026676391604\n",
      "R2y :  0.7725902461633347\n",
      "source:  23\n",
      "target:  24\n",
      "\n",
      "Session= 23\n",
      "Dataset : /home/jovyan/dataset/indy/Sorted_Spike_Dataset/indy_20161013_03.mat\n",
      "Unsort Data shape: (8084, 96)\n",
      "\n",
      "Session= 24\n",
      "Dataset : /home/jovyan/dataset/indy/Sorted_Spike_Dataset/indy_20161014_04.mat\n",
      "Unsort Data shape: (8108, 96)\n",
      "Running GPU : 0\n",
      "Training\n"
     ]
    },
    {
     "name": "stderr",
     "output_type": "stream",
     "text": [
      "/opt/conda/lib/python3.8/site-packages/torch/nn/modules/rnn.py:60: UserWarning: dropout option adds dropout after all but last recurrent layer, so non-zero dropout expects num_layers greater than 1, but got dropout=0.2 and num_layers=1\n",
      "  warnings.warn(\"dropout option adds dropout after all but last \"\n"
     ]
    },
    {
     "name": "stdout",
     "output_type": "stream",
     "text": [
      "Model test ...\n",
      "R2x :  0.7221221519656584\n",
      "R2y :  0.7949497694327082\n",
      "source:  24\n",
      "target:  25\n",
      "\n",
      "Session= 24\n",
      "Dataset : /home/jovyan/dataset/indy/Sorted_Spike_Dataset/indy_20161014_04.mat\n",
      "Unsort Data shape: (8108, 96)\n",
      "\n",
      "Session= 25\n",
      "Dataset : /home/jovyan/dataset/indy/Sorted_Spike_Dataset/indy_20161017_02.mat\n",
      "Unsort Data shape: (7746, 96)\n",
      "Running GPU : 0\n",
      "Training\n"
     ]
    },
    {
     "name": "stderr",
     "output_type": "stream",
     "text": [
      "/opt/conda/lib/python3.8/site-packages/torch/nn/modules/rnn.py:60: UserWarning: dropout option adds dropout after all but last recurrent layer, so non-zero dropout expects num_layers greater than 1, but got dropout=0.2 and num_layers=1\n",
      "  warnings.warn(\"dropout option adds dropout after all but last \"\n"
     ]
    },
    {
     "name": "stdout",
     "output_type": "stream",
     "text": [
      "Model test ...\n",
      "R2x :  0.7298434727161227\n",
      "R2y :  0.8129654922534438\n",
      "source:  25\n",
      "target:  26\n",
      "\n",
      "Session= 25\n",
      "Dataset : /home/jovyan/dataset/indy/Sorted_Spike_Dataset/indy_20161017_02.mat\n",
      "Unsort Data shape: (7746, 96)\n",
      "\n",
      "Session= 26\n",
      "Dataset : /home/jovyan/dataset/indy/Sorted_Spike_Dataset/indy_20161024_03.mat\n",
      "Unsort Data shape: (7379, 96)\n",
      "Running GPU : 0\n",
      "Training\n"
     ]
    },
    {
     "name": "stderr",
     "output_type": "stream",
     "text": [
      "/opt/conda/lib/python3.8/site-packages/torch/nn/modules/rnn.py:60: UserWarning: dropout option adds dropout after all but last recurrent layer, so non-zero dropout expects num_layers greater than 1, but got dropout=0.2 and num_layers=1\n",
      "  warnings.warn(\"dropout option adds dropout after all but last \"\n"
     ]
    },
    {
     "name": "stdout",
     "output_type": "stream",
     "text": [
      "Model test ...\n",
      "R2x :  0.7713250706970609\n",
      "R2y :  0.8165467922440633\n",
      "source:  26\n",
      "target:  27\n",
      "\n",
      "Session= 26\n",
      "Dataset : /home/jovyan/dataset/indy/Sorted_Spike_Dataset/indy_20161024_03.mat\n",
      "Unsort Data shape: (7379, 96)\n",
      "\n",
      "Session= 27\n",
      "Dataset : /home/jovyan/dataset/indy/Sorted_Spike_Dataset/indy_20161025_04.mat\n",
      "Unsort Data shape: (7874, 96)\n",
      "Running GPU : 0\n",
      "Training\n"
     ]
    },
    {
     "name": "stderr",
     "output_type": "stream",
     "text": [
      "/opt/conda/lib/python3.8/site-packages/torch/nn/modules/rnn.py:60: UserWarning: dropout option adds dropout after all but last recurrent layer, so non-zero dropout expects num_layers greater than 1, but got dropout=0.2 and num_layers=1\n",
      "  warnings.warn(\"dropout option adds dropout after all but last \"\n"
     ]
    },
    {
     "name": "stdout",
     "output_type": "stream",
     "text": [
      "Model test ...\n",
      "R2x :  0.7563871873832625\n",
      "R2y :  0.8095533477948629\n",
      "source:  27\n",
      "target:  28\n",
      "\n",
      "Session= 27\n",
      "Dataset : /home/jovyan/dataset/indy/Sorted_Spike_Dataset/indy_20161025_04.mat\n",
      "Unsort Data shape: (7874, 96)\n",
      "\n",
      "Session= 28\n",
      "Dataset : /home/jovyan/dataset/indy/Sorted_Spike_Dataset/indy_20161026_03.mat\n",
      "Unsort Data shape: (7771, 96)\n",
      "Running GPU : 0\n",
      "Training\n"
     ]
    },
    {
     "name": "stderr",
     "output_type": "stream",
     "text": [
      "/opt/conda/lib/python3.8/site-packages/torch/nn/modules/rnn.py:60: UserWarning: dropout option adds dropout after all but last recurrent layer, so non-zero dropout expects num_layers greater than 1, but got dropout=0.2 and num_layers=1\n",
      "  warnings.warn(\"dropout option adds dropout after all but last \"\n"
     ]
    },
    {
     "name": "stdout",
     "output_type": "stream",
     "text": [
      "Model test ...\n",
      "R2x :  0.736533906795265\n",
      "R2y :  0.7794991681215323\n",
      "source:  28\n",
      "target:  29\n",
      "\n",
      "Session= 28\n",
      "Dataset : /home/jovyan/dataset/indy/Sorted_Spike_Dataset/indy_20161026_03.mat\n",
      "Unsort Data shape: (7771, 96)\n",
      "\n",
      "Session= 29\n",
      "Dataset : /home/jovyan/dataset/indy/Sorted_Spike_Dataset/indy_20161027_03.mat\n",
      "Unsort Data shape: (9045, 96)\n",
      "Running GPU : 0\n",
      "Training\n"
     ]
    },
    {
     "name": "stderr",
     "output_type": "stream",
     "text": [
      "/opt/conda/lib/python3.8/site-packages/torch/nn/modules/rnn.py:60: UserWarning: dropout option adds dropout after all but last recurrent layer, so non-zero dropout expects num_layers greater than 1, but got dropout=0.2 and num_layers=1\n",
      "  warnings.warn(\"dropout option adds dropout after all but last \"\n"
     ]
    },
    {
     "name": "stdout",
     "output_type": "stream",
     "text": [
      "Model test ...\n",
      "R2x :  0.7496870878631106\n",
      "R2y :  0.7578835598382279\n",
      "source:  29\n",
      "target:  30\n",
      "\n",
      "Session= 29\n",
      "Dataset : /home/jovyan/dataset/indy/Sorted_Spike_Dataset/indy_20161027_03.mat\n",
      "Unsort Data shape: (9045, 96)\n",
      "\n",
      "Session= 30\n",
      "Dataset : /home/jovyan/dataset/indy/Sorted_Spike_Dataset/indy_20161206_02.mat\n",
      "Unsort Data shape: (11528, 96)\n",
      "Running GPU : 0\n",
      "Training\n"
     ]
    },
    {
     "name": "stderr",
     "output_type": "stream",
     "text": [
      "/opt/conda/lib/python3.8/site-packages/torch/nn/modules/rnn.py:60: UserWarning: dropout option adds dropout after all but last recurrent layer, so non-zero dropout expects num_layers greater than 1, but got dropout=0.2 and num_layers=1\n",
      "  warnings.warn(\"dropout option adds dropout after all but last \"\n"
     ]
    },
    {
     "name": "stdout",
     "output_type": "stream",
     "text": [
      "Model test ...\n",
      "R2x :  0.6027915077056861\n",
      "R2y :  0.6869766990627298\n",
      "source:  30\n",
      "target:  31\n",
      "\n",
      "Session= 30\n",
      "Dataset : /home/jovyan/dataset/indy/Sorted_Spike_Dataset/indy_20161206_02.mat\n",
      "Unsort Data shape: (11528, 96)\n",
      "\n",
      "Session= 31\n",
      "Dataset : /home/jovyan/dataset/indy/Sorted_Spike_Dataset/indy_20161207_02.mat\n",
      "Unsort Data shape: (6953, 96)\n",
      "Running GPU : 0\n",
      "Training\n"
     ]
    },
    {
     "name": "stderr",
     "output_type": "stream",
     "text": [
      "/opt/conda/lib/python3.8/site-packages/torch/nn/modules/rnn.py:60: UserWarning: dropout option adds dropout after all but last recurrent layer, so non-zero dropout expects num_layers greater than 1, but got dropout=0.2 and num_layers=1\n",
      "  warnings.warn(\"dropout option adds dropout after all but last \"\n"
     ]
    },
    {
     "name": "stdout",
     "output_type": "stream",
     "text": [
      "Model test ...\n",
      "R2x :  0.7141622871785984\n",
      "R2y :  0.824608315912786\n",
      "source:  31\n",
      "target:  32\n",
      "\n",
      "Session= 31\n",
      "Dataset : /home/jovyan/dataset/indy/Sorted_Spike_Dataset/indy_20161207_02.mat\n",
      "Unsort Data shape: (6953, 96)\n",
      "\n",
      "Session= 32\n",
      "Dataset : /home/jovyan/dataset/indy/Sorted_Spike_Dataset/indy_20161212_02.mat\n",
      "Unsort Data shape: (8760, 96)\n",
      "Running GPU : 0\n",
      "Training\n"
     ]
    },
    {
     "name": "stderr",
     "output_type": "stream",
     "text": [
      "/opt/conda/lib/python3.8/site-packages/torch/nn/modules/rnn.py:60: UserWarning: dropout option adds dropout after all but last recurrent layer, so non-zero dropout expects num_layers greater than 1, but got dropout=0.2 and num_layers=1\n",
      "  warnings.warn(\"dropout option adds dropout after all but last \"\n"
     ]
    },
    {
     "name": "stdout",
     "output_type": "stream",
     "text": [
      "Model test ...\n",
      "R2x :  0.7478584043494524\n",
      "R2y :  0.8487253923145112\n",
      "source:  32\n",
      "target:  33\n",
      "\n",
      "Session= 32\n",
      "Dataset : /home/jovyan/dataset/indy/Sorted_Spike_Dataset/indy_20161212_02.mat\n",
      "Unsort Data shape: (8760, 96)\n",
      "\n",
      "Session= 33\n",
      "Dataset : /home/jovyan/dataset/indy/Sorted_Spike_Dataset/indy_20161220_02.mat\n",
      "Unsort Data shape: (9004, 96)\n",
      "Running GPU : 0\n",
      "Training\n"
     ]
    },
    {
     "name": "stderr",
     "output_type": "stream",
     "text": [
      "/opt/conda/lib/python3.8/site-packages/torch/nn/modules/rnn.py:60: UserWarning: dropout option adds dropout after all but last recurrent layer, so non-zero dropout expects num_layers greater than 1, but got dropout=0.2 and num_layers=1\n",
      "  warnings.warn(\"dropout option adds dropout after all but last \"\n"
     ]
    },
    {
     "name": "stdout",
     "output_type": "stream",
     "text": [
      "Model test ...\n",
      "R2x :  0.6261783069679536\n",
      "R2y :  0.7329321982138376\n",
      "source:  33\n",
      "target:  34\n",
      "\n",
      "Session= 33\n",
      "Dataset : /home/jovyan/dataset/indy/Sorted_Spike_Dataset/indy_20161220_02.mat\n",
      "Unsort Data shape: (9004, 96)\n",
      "\n",
      "Session= 34\n",
      "Dataset : /home/jovyan/dataset/indy/Sorted_Spike_Dataset/indy_20170123_02.mat\n",
      "Unsort Data shape: (9526, 96)\n",
      "Running GPU : 0\n",
      "Training\n"
     ]
    },
    {
     "name": "stderr",
     "output_type": "stream",
     "text": [
      "/opt/conda/lib/python3.8/site-packages/torch/nn/modules/rnn.py:60: UserWarning: dropout option adds dropout after all but last recurrent layer, so non-zero dropout expects num_layers greater than 1, but got dropout=0.2 and num_layers=1\n",
      "  warnings.warn(\"dropout option adds dropout after all but last \"\n"
     ]
    },
    {
     "name": "stdout",
     "output_type": "stream",
     "text": [
      "Model test ...\n",
      "R2x :  0.7744616865226126\n",
      "R2y :  0.8149704102989794\n",
      "source:  35\n",
      "target:  36\n",
      "\n",
      "Session= 35\n",
      "Dataset : /home/jovyan/dataset/indy/Sorted_Spike_Dataset/indy_20170124_01.mat\n",
      "Unsort Data shape: (9217, 96)\n",
      "\n",
      "Session= 36\n",
      "Dataset : /home/jovyan/dataset/indy/Sorted_Spike_Dataset/indy_20170127_03.mat\n",
      "Unsort Data shape: (11460, 96)\n",
      "Running GPU : 0\n",
      "Training\n"
     ]
    },
    {
     "name": "stderr",
     "output_type": "stream",
     "text": [
      "/opt/conda/lib/python3.8/site-packages/torch/nn/modules/rnn.py:60: UserWarning: dropout option adds dropout after all but last recurrent layer, so non-zero dropout expects num_layers greater than 1, but got dropout=0.2 and num_layers=1\n",
      "  warnings.warn(\"dropout option adds dropout after all but last \"\n"
     ]
    },
    {
     "name": "stdout",
     "output_type": "stream",
     "text": [
      "Model test ...\n",
      "R2x :  0.7550669195001847\n",
      "R2y :  0.7462713967485504\n",
      "source:  36\n",
      "target:  37\n",
      "\n",
      "Session= 36\n",
      "Dataset : /home/jovyan/dataset/indy/Sorted_Spike_Dataset/indy_20170127_03.mat\n",
      "Unsort Data shape: (11460, 96)\n",
      "\n",
      "Session= 37\n",
      "Dataset : /home/jovyan/dataset/indy/Sorted_Spike_Dataset/indy_20170131_02.mat\n",
      "Unsort Data shape: (12748, 96)\n",
      "Running GPU : 0\n",
      "Training\n"
     ]
    },
    {
     "name": "stderr",
     "output_type": "stream",
     "text": [
      "/opt/conda/lib/python3.8/site-packages/torch/nn/modules/rnn.py:60: UserWarning: dropout option adds dropout after all but last recurrent layer, so non-zero dropout expects num_layers greater than 1, but got dropout=0.2 and num_layers=1\n",
      "  warnings.warn(\"dropout option adds dropout after all but last \"\n"
     ]
    },
    {
     "name": "stdout",
     "output_type": "stream",
     "text": [
      "Model test ...\n",
      "R2x :  0.7175623734953472\n",
      "R2y :  0.707862374723131\n"
     ]
    },
    {
     "data": {
      "image/png": "[encoded data removed]",
      "text/plain": [
       "<Figure size 432x288 with 1 Axes>"
      ]
     },
     "metadata": {
      "needs_background": "light"
     },
     "output_type": "display_data"
    }
   ],
   "source": [
    "A = []\n",
    "for session in range(1, 37):\n",
    "    train_loader, test_loader = dataloader.Mix_Dataloader(session)\n",
    "\n",
    "    if torch.cuda.is_available():\n",
    "        get_free_gpu()\n",
    "        print('Running GPU : {}'.format(torch.cuda.current_device()))\n",
    "        encoder = model.Extractor().cuda()\n",
    "        decoder = model.Decoder().cuda()\n",
    "        time = train.GRU_train(encoder, decoder, train_loader)\n",
    "    else:\n",
    "        print(\"There is no GPU -_-!\")\n",
    "\n",
    "    r2_x, r2_y = testt.tester(encoder, decoder, test_loader)\n",
    "    print(\"R2x : \", r2_x)\n",
    "    print(\"R2y : \", r2_y)\n",
    "    \n",
    "    A.append([session+1, 'x', r2_x, 'mixed_calibration'])\n",
    "    A.append([session+1, 'y', r2_y, 'mixed_calibration'])"
   ]
  },
  {
   "cell_type": "code",
   "execution_count": 7,
   "id": "44cb01cb",
   "metadata": {},
   "outputs": [],
   "source": [
    "result = pd.DataFrame(A, columns=['session', 'axis', 'rSquare', 'method'])    \n",
    "result.to_csv('./results/mixed_calibration.csv', index=False, header=True)"
   ]
  },
  {
   "cell_type": "code",
   "execution_count": 8,
   "id": "65922858",
   "metadata": {},
   "outputs": [
    {
     "data": {
      "text/plain": [
       "(2.0, 37.0)"
      ]
     },
     "execution_count": 8,
     "metadata": {},
     "output_type": "execute_result"
    },
    {
     "data": {
      "image/png": "[encoded data removed]",
      "text/plain": [
       "<Figure size 1080x576 with 1 Axes>"
      ]
     },
     "metadata": {
      "needs_background": "light"
     },
     "output_type": "display_data"
    }
   ],
   "source": [
    "import seaborn as sns\n",
    "import matplotlib.pyplot as plt\n",
    "\n",
    "result = pd.read_csv('./results/mixed_calibration.csv')\n",
    "fig, ax = plt.subplots(1, 1, figsize=(15, 8))\n",
    "sns.set(style='white', font_scale=2)\n",
    "sns.barplot(ax=ax, data=result, x=\"session\", y=\"rSquare\", hue=\"axis\")\n",
    "ax.set_xlabel('session')\n",
    "ax.set_ylabel('$R^2$')\n",
    "fig.suptitle('Domain mixed calibration')\n",
    "ax.set_xlim([2, 37])"
   ]
  },
  {
   "cell_type": "code",
   "execution_count": null,
   "id": "77b5d4ac",
   "metadata": {},
   "outputs": [],
   "source": []
  }
 ],
 "metadata": {
  "kernelspec": {
   "display_name": "Python 3",
   "language": "python",
   "name": "python3"
  },
  "language_info": {
   "codemirror_mode": {
    "name": "ipython",
    "version": 3
   },
   "file_extension": ".py",
   "mimetype": "text/x-python",
   "name": "python",
   "nbconvert_exporter": "python",
   "pygments_lexer": "ipython3",
   "version": "3.8.8"
  }
 },
 "nbformat": 4,
 "nbformat_minor": 5
}
