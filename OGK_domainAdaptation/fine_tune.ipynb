{
 "cells": [
  {
   "cell_type": "code",
   "execution_count": 1,
   "id": "3da97275",
   "metadata": {},
   "outputs": [],
   "source": [
    "import numpy as np\n",
    "import pandas as pd\n",
    "import torch\n",
    "import train\n",
    "import dataloader\n",
    "from utils import get_free_gpu\n",
    "import testt\n",
    "import seaborn as sns\n",
    "import matplotlib.pyplot as plt\n",
    "import param\n",
    "import model"
   ]
  },
  {
   "cell_type": "code",
   "execution_count": 2,
   "id": "f92e80fa",
   "metadata": {},
   "outputs": [
    {
     "name": "stdout",
     "output_type": "stream",
     "text": [
      "session:  1\n",
      "\n",
      "Session= 1\n",
      "Dataset : /home/jovyan/dataset/indy/Sorted_Spike_Dataset/indy_20160407_02.mat\n",
      "Unsort Data shape: (12776, 96)\n",
      "Running GPU : 0\n"
     ]
    },
    {
     "name": "stderr",
     "output_type": "stream",
     "text": [
      "/opt/conda/lib/python3.8/site-packages/torch/nn/modules/rnn.py:60: UserWarning: dropout option adds dropout after all but last recurrent layer, so non-zero dropout expects num_layers greater than 1, but got dropout=0.2 and num_layers=1\n",
      "  warnings.warn(\"dropout option adds dropout after all but last \"\n"
     ]
    },
    {
     "name": "stdout",
     "output_type": "stream",
     "text": [
      "Training\n",
      "session:  2\n",
      "\n",
      "Session= 2\n",
      "Dataset : /home/jovyan/dataset/indy/Sorted_Spike_Dataset/indy_20160411_01.mat\n",
      "Unsort Data shape: (14893, 96)\n",
      "Running GPU : 0\n",
      "Training\n"
     ]
    },
    {
     "name": "stderr",
     "output_type": "stream",
     "text": [
      "/opt/conda/lib/python3.8/site-packages/torch/nn/modules/rnn.py:60: UserWarning: dropout option adds dropout after all but last recurrent layer, so non-zero dropout expects num_layers greater than 1, but got dropout=0.2 and num_layers=1\n",
      "  warnings.warn(\"dropout option adds dropout after all but last \"\n"
     ]
    },
    {
     "name": "stdout",
     "output_type": "stream",
     "text": [
      "Model test ...\n",
      "R2x :  0.7364494650853006\n",
      "R2y :  0.7533174335579761\n",
      "session:  3\n",
      "\n",
      "Session= 3\n",
      "Dataset : /home/jovyan/dataset/indy/Sorted_Spike_Dataset/indy_20160411_02.mat\n",
      "Unsort Data shape: (13748, 96)\n",
      "Running GPU : 0\n",
      "Training\n"
     ]
    },
    {
     "name": "stderr",
     "output_type": "stream",
     "text": [
      "/opt/conda/lib/python3.8/site-packages/torch/nn/modules/rnn.py:60: UserWarning: dropout option adds dropout after all but last recurrent layer, so non-zero dropout expects num_layers greater than 1, but got dropout=0.2 and num_layers=1\n",
      "  warnings.warn(\"dropout option adds dropout after all but last \"\n"
     ]
    },
    {
     "name": "stdout",
     "output_type": "stream",
     "text": [
      "Model test ...\n",
      "R2x :  0.749701795612326\n",
      "R2y :  0.7783355281769186\n",
      "session:  4\n",
      "\n",
      "Session= 4\n",
      "Dataset : /home/jovyan/dataset/indy/Sorted_Spike_Dataset/indy_20160418_01.mat\n",
      "Unsort Data shape: (21211, 96)\n",
      "Running GPU : 0\n",
      "Training\n"
     ]
    },
    {
     "name": "stderr",
     "output_type": "stream",
     "text": [
      "/opt/conda/lib/python3.8/site-packages/torch/nn/modules/rnn.py:60: UserWarning: dropout option adds dropout after all but last recurrent layer, so non-zero dropout expects num_layers greater than 1, but got dropout=0.2 and num_layers=1\n",
      "  warnings.warn(\"dropout option adds dropout after all but last \"\n"
     ]
    },
    {
     "name": "stdout",
     "output_type": "stream",
     "text": [
      "Model test ...\n",
      "R2x :  0.7388101845821338\n",
      "R2y :  0.7572449154191396\n",
      "session:  5\n",
      "\n",
      "Session= 5\n",
      "Dataset : /home/jovyan/dataset/indy/Sorted_Spike_Dataset/indy_20160419_01.mat\n",
      "Unsort Data shape: (8186, 96)\n",
      "Running GPU : 0\n",
      "Training\n"
     ]
    },
    {
     "name": "stderr",
     "output_type": "stream",
     "text": [
      "/opt/conda/lib/python3.8/site-packages/torch/nn/modules/rnn.py:60: UserWarning: dropout option adds dropout after all but last recurrent layer, so non-zero dropout expects num_layers greater than 1, but got dropout=0.2 and num_layers=1\n",
      "  warnings.warn(\"dropout option adds dropout after all but last \"\n"
     ]
    },
    {
     "name": "stdout",
     "output_type": "stream",
     "text": [
      "Model test ...\n",
      "R2x :  0.7300942137215845\n",
      "R2y :  0.7028196596221441\n",
      "session:  6\n",
      "\n",
      "Session= 6\n",
      "Dataset : /home/jovyan/dataset/indy/Sorted_Spike_Dataset/indy_20160420_01.mat\n",
      "Unsort Data shape: (24267, 96)\n",
      "Running GPU : 0\n",
      "Training\n"
     ]
    },
    {
     "name": "stderr",
     "output_type": "stream",
     "text": [
      "/opt/conda/lib/python3.8/site-packages/torch/nn/modules/rnn.py:60: UserWarning: dropout option adds dropout after all but last recurrent layer, so non-zero dropout expects num_layers greater than 1, but got dropout=0.2 and num_layers=1\n",
      "  warnings.warn(\"dropout option adds dropout after all but last \"\n"
     ]
    },
    {
     "name": "stdout",
     "output_type": "stream",
     "text": [
      "Model test ...\n",
      "R2x :  0.7771265930336982\n",
      "R2y :  0.7782408911960182\n",
      "session:  7\n",
      "\n",
      "Session= 7\n",
      "Dataset : /home/jovyan/dataset/indy/Sorted_Spike_Dataset/indy_20160426_01.mat\n",
      "Unsort Data shape: (27531, 96)\n",
      "Running GPU : 0\n",
      "Training\n"
     ]
    },
    {
     "name": "stderr",
     "output_type": "stream",
     "text": [
      "/opt/conda/lib/python3.8/site-packages/torch/nn/modules/rnn.py:60: UserWarning: dropout option adds dropout after all but last recurrent layer, so non-zero dropout expects num_layers greater than 1, but got dropout=0.2 and num_layers=1\n",
      "  warnings.warn(\"dropout option adds dropout after all but last \"\n"
     ]
    },
    {
     "name": "stdout",
     "output_type": "stream",
     "text": [
      "Model test ...\n",
      "R2x :  0.775268237956466\n",
      "R2y :  0.7526084274727048\n",
      "session:  8\n",
      "\n",
      "Session= 8\n",
      "Dataset : /home/jovyan/dataset/indy/Sorted_Spike_Dataset/indy_20160622_01.mat\n",
      "Unsort Data shape: (38275, 96)\n",
      "Running GPU : 0\n",
      "Training\n"
     ]
    },
    {
     "name": "stderr",
     "output_type": "stream",
     "text": [
      "/opt/conda/lib/python3.8/site-packages/torch/nn/modules/rnn.py:60: UserWarning: dropout option adds dropout after all but last recurrent layer, so non-zero dropout expects num_layers greater than 1, but got dropout=0.2 and num_layers=1\n",
      "  warnings.warn(\"dropout option adds dropout after all but last \"\n"
     ]
    },
    {
     "name": "stdout",
     "output_type": "stream",
     "text": [
      "Model test ...\n",
      "R2x :  0.6784144643215829\n",
      "R2y :  0.6016189403799407\n",
      "session:  9\n",
      "\n",
      "Session= 9\n",
      "Dataset : /home/jovyan/dataset/indy/Sorted_Spike_Dataset/indy_20160624_03.mat\n",
      "Unsort Data shape: (7811, 96)\n",
      "Running GPU : 0\n",
      "Training\n"
     ]
    },
    {
     "name": "stderr",
     "output_type": "stream",
     "text": [
      "/opt/conda/lib/python3.8/site-packages/torch/nn/modules/rnn.py:60: UserWarning: dropout option adds dropout after all but last recurrent layer, so non-zero dropout expects num_layers greater than 1, but got dropout=0.2 and num_layers=1\n",
      "  warnings.warn(\"dropout option adds dropout after all but last \"\n"
     ]
    },
    {
     "name": "stdout",
     "output_type": "stream",
     "text": [
      "Model test ...\n",
      "R2x :  0.654167966932386\n",
      "R2y :  0.7757660180118331\n",
      "session:  10\n",
      "\n",
      "Session= 10\n",
      "Dataset : /home/jovyan/dataset/indy/Sorted_Spike_Dataset/indy_20160627_01.mat\n",
      "Unsort Data shape: (52545, 96)\n",
      "Running GPU : 0\n",
      "Training\n"
     ]
    },
    {
     "name": "stderr",
     "output_type": "stream",
     "text": [
      "/opt/conda/lib/python3.8/site-packages/torch/nn/modules/rnn.py:60: UserWarning: dropout option adds dropout after all but last recurrent layer, so non-zero dropout expects num_layers greater than 1, but got dropout=0.2 and num_layers=1\n",
      "  warnings.warn(\"dropout option adds dropout after all but last \"\n"
     ]
    },
    {
     "name": "stdout",
     "output_type": "stream",
     "text": [
      "Model test ...\n",
      "R2x :  0.6799702896911762\n",
      "R2y :  0.8111362797785897\n",
      "session:  11\n",
      "\n",
      "Session= 11\n",
      "Dataset : /home/jovyan/dataset/indy/Sorted_Spike_Dataset/indy_20160630_01.mat\n",
      "Unsort Data shape: (22862, 96)\n",
      "Running GPU : 0\n",
      "Training\n"
     ]
    },
    {
     "name": "stderr",
     "output_type": "stream",
     "text": [
      "/opt/conda/lib/python3.8/site-packages/torch/nn/modules/rnn.py:60: UserWarning: dropout option adds dropout after all but last recurrent layer, so non-zero dropout expects num_layers greater than 1, but got dropout=0.2 and num_layers=1\n",
      "  warnings.warn(\"dropout option adds dropout after all but last \"\n"
     ]
    },
    {
     "name": "stdout",
     "output_type": "stream",
     "text": [
      "Model test ...\n",
      "R2x :  0.5195205018535489\n",
      "R2y :  0.7024127574016048\n",
      "session:  12\n",
      "\n",
      "Session= 12\n",
      "Dataset : /home/jovyan/dataset/indy/Sorted_Spike_Dataset/indy_20160915_01.mat\n",
      "Unsort Data shape: (5952, 96)\n",
      "Running GPU : 0\n",
      "Training\n"
     ]
    },
    {
     "name": "stderr",
     "output_type": "stream",
     "text": [
      "/opt/conda/lib/python3.8/site-packages/torch/nn/modules/rnn.py:60: UserWarning: dropout option adds dropout after all but last recurrent layer, so non-zero dropout expects num_layers greater than 1, but got dropout=0.2 and num_layers=1\n",
      "  warnings.warn(\"dropout option adds dropout after all but last \"\n"
     ]
    },
    {
     "name": "stdout",
     "output_type": "stream",
     "text": [
      "Model test ...\n",
      "R2x :  0.7213801260176532\n",
      "R2y :  0.7935603608048272\n",
      "session:  13\n",
      "\n",
      "Session= 13\n",
      "Dataset : /home/jovyan/dataset/indy/Sorted_Spike_Dataset/indy_20160916_01.mat\n",
      "Unsort Data shape: (7058, 96)\n",
      "Running GPU : 0\n",
      "Training\n"
     ]
    },
    {
     "name": "stderr",
     "output_type": "stream",
     "text": [
      "/opt/conda/lib/python3.8/site-packages/torch/nn/modules/rnn.py:60: UserWarning: dropout option adds dropout after all but last recurrent layer, so non-zero dropout expects num_layers greater than 1, but got dropout=0.2 and num_layers=1\n",
      "  warnings.warn(\"dropout option adds dropout after all but last \"\n"
     ]
    },
    {
     "name": "stdout",
     "output_type": "stream",
     "text": [
      "Model test ...\n",
      "R2x :  0.7726167614230717\n",
      "R2y :  0.8546322889698781\n",
      "session:  14\n",
      "\n",
      "Session= 14\n",
      "Dataset : /home/jovyan/dataset/indy/Sorted_Spike_Dataset/indy_20160921_01.mat\n",
      "Unsort Data shape: (5626, 96)\n",
      "Running GPU : 0\n",
      "Training\n"
     ]
    },
    {
     "name": "stderr",
     "output_type": "stream",
     "text": [
      "/opt/conda/lib/python3.8/site-packages/torch/nn/modules/rnn.py:60: UserWarning: dropout option adds dropout after all but last recurrent layer, so non-zero dropout expects num_layers greater than 1, but got dropout=0.2 and num_layers=1\n",
      "  warnings.warn(\"dropout option adds dropout after all but last \"\n"
     ]
    },
    {
     "name": "stdout",
     "output_type": "stream",
     "text": [
      "Model test ...\n",
      "R2x :  0.7424899086121086\n",
      "R2y :  0.8254969581539546\n",
      "session:  15\n",
      "\n",
      "Session= 15\n",
      "Dataset : /home/jovyan/dataset/indy/Sorted_Spike_Dataset/indy_20160927_04.mat\n",
      "Unsort Data shape: (6082, 96)\n",
      "Running GPU : 0\n",
      "Training\n"
     ]
    },
    {
     "name": "stderr",
     "output_type": "stream",
     "text": [
      "/opt/conda/lib/python3.8/site-packages/torch/nn/modules/rnn.py:60: UserWarning: dropout option adds dropout after all but last recurrent layer, so non-zero dropout expects num_layers greater than 1, but got dropout=0.2 and num_layers=1\n",
      "  warnings.warn(\"dropout option adds dropout after all but last \"\n"
     ]
    },
    {
     "name": "stdout",
     "output_type": "stream",
     "text": [
      "Model test ...\n",
      "R2x :  0.772906793299929\n",
      "R2y :  0.8609991534071998\n",
      "session:  16\n",
      "\n",
      "Session= 16\n",
      "Dataset : /home/jovyan/dataset/indy/Sorted_Spike_Dataset/indy_20160927_06.mat\n",
      "Unsort Data shape: (6577, 96)\n",
      "Running GPU : 0\n",
      "Training\n"
     ]
    },
    {
     "name": "stderr",
     "output_type": "stream",
     "text": [
      "/opt/conda/lib/python3.8/site-packages/torch/nn/modules/rnn.py:60: UserWarning: dropout option adds dropout after all but last recurrent layer, so non-zero dropout expects num_layers greater than 1, but got dropout=0.2 and num_layers=1\n",
      "  warnings.warn(\"dropout option adds dropout after all but last \"\n"
     ]
    },
    {
     "name": "stdout",
     "output_type": "stream",
     "text": [
      "Model test ...\n",
      "R2x :  0.7634644365152528\n",
      "R2y :  0.8298765719265857\n",
      "session:  17\n",
      "\n",
      "Session= 17\n",
      "Dataset : /home/jovyan/dataset/indy/Sorted_Spike_Dataset/indy_20160930_02.mat\n",
      "Unsort Data shape: (7198, 96)\n",
      "Running GPU : 0\n",
      "Training\n"
     ]
    },
    {
     "name": "stderr",
     "output_type": "stream",
     "text": [
      "/opt/conda/lib/python3.8/site-packages/torch/nn/modules/rnn.py:60: UserWarning: dropout option adds dropout after all but last recurrent layer, so non-zero dropout expects num_layers greater than 1, but got dropout=0.2 and num_layers=1\n",
      "  warnings.warn(\"dropout option adds dropout after all but last \"\n"
     ]
    },
    {
     "name": "stdout",
     "output_type": "stream",
     "text": [
      "Model test ...\n",
      "R2x :  0.7306250138598733\n",
      "R2y :  0.7930897403616005\n",
      "session:  18\n",
      "\n",
      "Session= 18\n",
      "Dataset : /home/jovyan/dataset/indy/Sorted_Spike_Dataset/indy_20160930_05.mat\n",
      "Unsort Data shape: (6342, 96)\n",
      "Running GPU : 0\n",
      "Training\n"
     ]
    },
    {
     "name": "stderr",
     "output_type": "stream",
     "text": [
      "/opt/conda/lib/python3.8/site-packages/torch/nn/modules/rnn.py:60: UserWarning: dropout option adds dropout after all but last recurrent layer, so non-zero dropout expects num_layers greater than 1, but got dropout=0.2 and num_layers=1\n",
      "  warnings.warn(\"dropout option adds dropout after all but last \"\n"
     ]
    },
    {
     "name": "stdout",
     "output_type": "stream",
     "text": [
      "Model test ...\n",
      "R2x :  0.7549675895461517\n",
      "R2y :  0.8504597372843311\n",
      "session:  19\n",
      "\n",
      "Session= 19\n",
      "Dataset : /home/jovyan/dataset/indy/Sorted_Spike_Dataset/indy_20161005_06.mat\n",
      "Unsort Data shape: (5842, 96)\n",
      "Running GPU : 0\n",
      "Training\n"
     ]
    },
    {
     "name": "stderr",
     "output_type": "stream",
     "text": [
      "/opt/conda/lib/python3.8/site-packages/torch/nn/modules/rnn.py:60: UserWarning: dropout option adds dropout after all but last recurrent layer, so non-zero dropout expects num_layers greater than 1, but got dropout=0.2 and num_layers=1\n",
      "  warnings.warn(\"dropout option adds dropout after all but last \"\n"
     ]
    },
    {
     "name": "stdout",
     "output_type": "stream",
     "text": [
      "Model test ...\n",
      "R2x :  0.7282671631139879\n",
      "R2y :  0.865149149272006\n",
      "session:  20\n",
      "\n",
      "Session= 20\n",
      "Dataset : /home/jovyan/dataset/indy/Sorted_Spike_Dataset/indy_20161006_02.mat\n",
      "Unsort Data shape: (7842, 96)\n",
      "Running GPU : 0\n",
      "Training\n"
     ]
    },
    {
     "name": "stderr",
     "output_type": "stream",
     "text": [
      "/opt/conda/lib/python3.8/site-packages/torch/nn/modules/rnn.py:60: UserWarning: dropout option adds dropout after all but last recurrent layer, so non-zero dropout expects num_layers greater than 1, but got dropout=0.2 and num_layers=1\n",
      "  warnings.warn(\"dropout option adds dropout after all but last \"\n"
     ]
    },
    {
     "name": "stdout",
     "output_type": "stream",
     "text": [
      "Model test ...\n",
      "R2x :  0.7429592265387274\n",
      "R2y :  0.838200151378681\n",
      "session:  21\n",
      "\n",
      "Session= 21\n",
      "Dataset : /home/jovyan/dataset/indy/Sorted_Spike_Dataset/indy_20161007_02.mat\n",
      "Unsort Data shape: (7676, 96)\n",
      "Running GPU : 0\n",
      "Training\n"
     ]
    },
    {
     "name": "stderr",
     "output_type": "stream",
     "text": [
      "/opt/conda/lib/python3.8/site-packages/torch/nn/modules/rnn.py:60: UserWarning: dropout option adds dropout after all but last recurrent layer, so non-zero dropout expects num_layers greater than 1, but got dropout=0.2 and num_layers=1\n",
      "  warnings.warn(\"dropout option adds dropout after all but last \"\n"
     ]
    },
    {
     "name": "stdout",
     "output_type": "stream",
     "text": [
      "Model test ...\n",
      "R2x :  0.7651801096305623\n",
      "R2y :  0.8388421210108701\n",
      "session:  22\n",
      "\n",
      "Session= 22\n",
      "Dataset : /home/jovyan/dataset/indy/Sorted_Spike_Dataset/indy_20161011_03.mat\n",
      "Unsort Data shape: (10526, 96)\n",
      "Running GPU : 0\n",
      "Training\n"
     ]
    },
    {
     "name": "stderr",
     "output_type": "stream",
     "text": [
      "/opt/conda/lib/python3.8/site-packages/torch/nn/modules/rnn.py:60: UserWarning: dropout option adds dropout after all but last recurrent layer, so non-zero dropout expects num_layers greater than 1, but got dropout=0.2 and num_layers=1\n",
      "  warnings.warn(\"dropout option adds dropout after all but last \"\n"
     ]
    },
    {
     "name": "stdout",
     "output_type": "stream",
     "text": [
      "Model test ...\n",
      "R2x :  0.746291148605791\n",
      "R2y :  0.773758415206947\n",
      "session:  23\n",
      "\n",
      "Session= 23\n",
      "Dataset : /home/jovyan/dataset/indy/Sorted_Spike_Dataset/indy_20161013_03.mat\n",
      "Unsort Data shape: (8084, 96)\n",
      "Running GPU : 0\n",
      "Training\n"
     ]
    },
    {
     "name": "stderr",
     "output_type": "stream",
     "text": [
      "/opt/conda/lib/python3.8/site-packages/torch/nn/modules/rnn.py:60: UserWarning: dropout option adds dropout after all but last recurrent layer, so non-zero dropout expects num_layers greater than 1, but got dropout=0.2 and num_layers=1\n",
      "  warnings.warn(\"dropout option adds dropout after all but last \"\n"
     ]
    },
    {
     "name": "stdout",
     "output_type": "stream",
     "text": [
      "Model test ...\n",
      "R2x :  0.7066040812316214\n",
      "R2y :  0.787789683765331\n",
      "session:  24\n",
      "\n",
      "Session= 24\n",
      "Dataset : /home/jovyan/dataset/indy/Sorted_Spike_Dataset/indy_20161014_04.mat\n",
      "Unsort Data shape: (8108, 96)\n",
      "Running GPU : 0\n",
      "Training\n"
     ]
    },
    {
     "name": "stderr",
     "output_type": "stream",
     "text": [
      "/opt/conda/lib/python3.8/site-packages/torch/nn/modules/rnn.py:60: UserWarning: dropout option adds dropout after all but last recurrent layer, so non-zero dropout expects num_layers greater than 1, but got dropout=0.2 and num_layers=1\n",
      "  warnings.warn(\"dropout option adds dropout after all but last \"\n"
     ]
    },
    {
     "name": "stdout",
     "output_type": "stream",
     "text": [
      "Model test ...\n",
      "R2x :  0.7295565340973225\n",
      "R2y :  0.8098901982769215\n",
      "session:  25\n",
      "\n",
      "Session= 25\n",
      "Dataset : /home/jovyan/dataset/indy/Sorted_Spike_Dataset/indy_20161017_02.mat\n",
      "Unsort Data shape: (7746, 96)\n",
      "Model test ...\n",
      "R2x :  0.76763845496951\n",
      "R2y :  0.833519722227474\n",
      "session:  28\n",
      "\n",
      "Session= 28\n",
      "Dataset : /home/jovyan/dataset/indy/Sorted_Spike_Dataset/indy_20161026_03.mat\n",
      "Unsort Data shape: (7771, 96)\n",
      "Running GPU : 0\n",
      "Training\n"
     ]
    },
    {
     "name": "stderr",
     "output_type": "stream",
     "text": [
      "/opt/conda/lib/python3.8/site-packages/torch/nn/modules/rnn.py:60: UserWarning: dropout option adds dropout after all but last recurrent layer, so non-zero dropout expects num_layers greater than 1, but got dropout=0.2 and num_layers=1\n",
      "  warnings.warn(\"dropout option adds dropout after all but last \"\n"
     ]
    },
    {
     "name": "stdout",
     "output_type": "stream",
     "text": [
      "Model test ...\n",
      "R2x :  0.7329876592656404\n",
      "R2y :  0.7847425676734316\n",
      "session:  29\n",
      "\n",
      "Session= 29\n",
      "Dataset : /home/jovyan/dataset/indy/Sorted_Spike_Dataset/indy_20161027_03.mat\n",
      "Unsort Data shape: (9045, 96)\n",
      "Running GPU : 0\n",
      "Training\n"
     ]
    },
    {
     "name": "stderr",
     "output_type": "stream",
     "text": [
      "/opt/conda/lib/python3.8/site-packages/torch/nn/modules/rnn.py:60: UserWarning: dropout option adds dropout after all but last recurrent layer, so non-zero dropout expects num_layers greater than 1, but got dropout=0.2 and num_layers=1\n",
      "  warnings.warn(\"dropout option adds dropout after all but last \"\n"
     ]
    },
    {
     "name": "stdout",
     "output_type": "stream",
     "text": [
      "Model test ...\n",
      "R2x :  0.7407020151036894\n",
      "R2y :  0.7724186450249313\n",
      "session:  30\n",
      "\n",
      "Session= 30\n",
      "Dataset : /home/jovyan/dataset/indy/Sorted_Spike_Dataset/indy_20161206_02.mat\n",
      "Unsort Data shape: (11528, 96)\n",
      "Running GPU : 0\n",
      "Training\n"
     ]
    },
    {
     "name": "stderr",
     "output_type": "stream",
     "text": [
      "/opt/conda/lib/python3.8/site-packages/torch/nn/modules/rnn.py:60: UserWarning: dropout option adds dropout after all but last recurrent layer, so non-zero dropout expects num_layers greater than 1, but got dropout=0.2 and num_layers=1\n",
      "  warnings.warn(\"dropout option adds dropout after all but last \"\n"
     ]
    },
    {
     "name": "stdout",
     "output_type": "stream",
     "text": [
      "Model test ...\n",
      "R2x :  0.6117823330144987\n",
      "R2y :  0.7000722290516692\n",
      "session:  31\n",
      "\n",
      "Session= 31\n",
      "Dataset : /home/jovyan/dataset/indy/Sorted_Spike_Dataset/indy_20161207_02.mat\n",
      "Unsort Data shape: (6953, 96)\n",
      "Running GPU : 0\n",
      "Training\n"
     ]
    },
    {
     "name": "stderr",
     "output_type": "stream",
     "text": [
      "/opt/conda/lib/python3.8/site-packages/torch/nn/modules/rnn.py:60: UserWarning: dropout option adds dropout after all but last recurrent layer, so non-zero dropout expects num_layers greater than 1, but got dropout=0.2 and num_layers=1\n",
      "  warnings.warn(\"dropout option adds dropout after all but last \"\n"
     ]
    },
    {
     "name": "stdout",
     "output_type": "stream",
     "text": [
      "Model test ...\n",
      "R2x :  0.7462027903544814\n",
      "R2y :  0.8427501480600516\n",
      "session:  32\n",
      "\n",
      "Session= 32\n",
      "Dataset : /home/jovyan/dataset/indy/Sorted_Spike_Dataset/indy_20161212_02.mat\n",
      "Unsort Data shape: (8760, 96)\n",
      "Running GPU : 0\n",
      "Training\n"
     ]
    },
    {
     "name": "stderr",
     "output_type": "stream",
     "text": [
      "/opt/conda/lib/python3.8/site-packages/torch/nn/modules/rnn.py:60: UserWarning: dropout option adds dropout after all but last recurrent layer, so non-zero dropout expects num_layers greater than 1, but got dropout=0.2 and num_layers=1\n",
      "  warnings.warn(\"dropout option adds dropout after all but last \"\n"
     ]
    },
    {
     "name": "stdout",
     "output_type": "stream",
     "text": [
      "Model test ...\n",
      "R2x :  0.7546151758367807\n",
      "R2y :  0.8445562015794846\n",
      "session:  33\n",
      "\n",
      "Session= 33\n",
      "Dataset : /home/jovyan/dataset/indy/Sorted_Spike_Dataset/indy_20161220_02.mat\n",
      "Unsort Data shape: (9004, 96)\n",
      "Running GPU : 0\n",
      "Training\n"
     ]
    },
    {
     "name": "stderr",
     "output_type": "stream",
     "text": [
      "/opt/conda/lib/python3.8/site-packages/torch/nn/modules/rnn.py:60: UserWarning: dropout option adds dropout after all but last recurrent layer, so non-zero dropout expects num_layers greater than 1, but got dropout=0.2 and num_layers=1\n",
      "  warnings.warn(\"dropout option adds dropout after all but last \"\n"
     ]
    },
    {
     "name": "stdout",
     "output_type": "stream",
     "text": [
      "Model test ...\n",
      "R2x :  0.6303712127206684\n",
      "R2y :  0.7354126514675416\n",
      "session:  34\n",
      "\n",
      "Session= 34\n",
      "Dataset : /home/jovyan/dataset/indy/Sorted_Spike_Dataset/indy_20170123_02.mat\n",
      "Unsort Data shape: (9526, 96)\n",
      "Running GPU : 0\n",
      "Training\n"
     ]
    },
    {
     "name": "stderr",
     "output_type": "stream",
     "text": [
      "/opt/conda/lib/python3.8/site-packages/torch/nn/modules/rnn.py:60: UserWarning: dropout option adds dropout after all but last recurrent layer, so non-zero dropout expects num_layers greater than 1, but got dropout=0.2 and num_layers=1\n",
      "  warnings.warn(\"dropout option adds dropout after all but last \"\n"
     ]
    },
    {
     "name": "stdout",
     "output_type": "stream",
     "text": [
      "Model test ...\n",
      "R2x :  0.7704378386497002\n",
      "R2y :  0.7919438990009432\n",
      "session:  35\n",
      "\n",
      "Session= 35\n",
      "Dataset : /home/jovyan/dataset/indy/Sorted_Spike_Dataset/indy_20170124_01.mat\n",
      "Unsort Data shape: (9217, 96)\n",
      "Running GPU : 0\n",
      "Training\n"
     ]
    },
    {
     "name": "stderr",
     "output_type": "stream",
     "text": [
      "/opt/conda/lib/python3.8/site-packages/torch/nn/modules/rnn.py:60: UserWarning: dropout option adds dropout after all but last recurrent layer, so non-zero dropout expects num_layers greater than 1, but got dropout=0.2 and num_layers=1\n",
      "  warnings.warn(\"dropout option adds dropout after all but last \"\n"
     ]
    },
    {
     "name": "stdout",
     "output_type": "stream",
     "text": [
      "Model test ...\n",
      "R2x :  0.7737725781461672\n",
      "R2y :  0.7991018244691427\n",
      "session:  36\n",
      "\n",
      "Session= 36\n",
      "Dataset : /home/jovyan/dataset/indy/Sorted_Spike_Dataset/indy_20170127_03.mat\n",
      "Unsort Data shape: (11460, 96)\n",
      "Running GPU : 0\n",
      "Training\n"
     ]
    },
    {
     "name": "stderr",
     "output_type": "stream",
     "text": [
      "/opt/conda/lib/python3.8/site-packages/torch/nn/modules/rnn.py:60: UserWarning: dropout option adds dropout after all but last recurrent layer, so non-zero dropout expects num_layers greater than 1, but got dropout=0.2 and num_layers=1\n",
      "  warnings.warn(\"dropout option adds dropout after all but last \"\n"
     ]
    },
    {
     "name": "stdout",
     "output_type": "stream",
     "text": [
      "Model test ...\n",
      "R2x :  0.7805960942389345\n",
      "R2y :  0.7934443260990046\n",
      "session:  37\n",
      "\n",
      "Session= 37\n",
      "Dataset : /home/jovyan/dataset/indy/Sorted_Spike_Dataset/indy_20170131_02.mat\n",
      "Unsort Data shape: (12748, 96)\n",
      "Running GPU : 0\n",
      "Training\n"
     ]
    },
    {
     "name": "stderr",
     "output_type": "stream",
     "text": [
      "/opt/conda/lib/python3.8/site-packages/torch/nn/modules/rnn.py:60: UserWarning: dropout option adds dropout after all but last recurrent layer, so non-zero dropout expects num_layers greater than 1, but got dropout=0.2 and num_layers=1\n",
      "  warnings.warn(\"dropout option adds dropout after all but last \"\n"
     ]
    },
    {
     "name": "stdout",
     "output_type": "stream",
     "text": [
      "Model test ...\n",
      "R2x :  0.7463703699444324\n",
      "R2y :  0.7560789047496711\n"
     ]
    },
    {
     "data": {
      "image/png": "[encoded data removed]",
      "text/plain": [
       "<Figure size 432x288 with 1 Axes>"
      ]
     },
     "metadata": {
      "needs_background": "light"
     },
     "output_type": "display_data"
    }
   ],
   "source": [
    "train_loader, val_loader = dataloader.New_Dataloader(1)\n",
    "\n",
    "if torch.cuda.is_available():\n",
    "    get_free_gpu()\n",
    "    print('Running GPU : {}'.format(torch.cuda.current_device()))\n",
    "    encoder = model.Extractor().cuda()\n",
    "    decoder = model.Decoder().cuda()\n",
    "    time = train.GRU_train(encoder, decoder, train_loader)\n",
    "else:\n",
    "    print(\"There is no GPU -_-!\")\n",
    "\n",
    "A = []\n",
    "for target in range(2, 38):\n",
    "    T_tune_loader, T_test_loader = dataloader.New_Dataloader(target)\n",
    "\n",
    "    if torch.cuda.is_available():\n",
    "        get_free_gpu()\n",
    "        print('Running GPU : {}'.format(torch.cuda.current_device()))\n",
    "        encoder = model.Extractor().cuda()\n",
    "        encoder.load_state_dict(torch.load('pre_train_models/encoder.pt'))\n",
    "        decoder = model.Decoder().cuda()\n",
    "        decoder.load_state_dict(torch.load('pre_train_models/decoder.pt'))\n",
    "        total_time = train.GRU_train(encoder, decoder, T_tune_loader)\n",
    "    else:\n",
    "        print(\"There is no GPU -_-!\")\n",
    "\n",
    "    T_r2_x, T_r2_y = testt.tester(encoder, decoder, T_test_loader)\n",
    "    print(\"R2x : \", T_r2_x)\n",
    "    print(\"R2y : \", T_r2_y)\n",
    "#     a = [[T_r2_x, T_r2_y, total_time]]\n",
    "    A.append([target, 'x', T_r2_x, 'fine_tune'])\n",
    "    A.append([target, 'y', T_r2_y, 'fine_tune'])"
   ]
  },
  {
   "cell_type": "code",
   "execution_count": 3,
   "id": "e48dc6ed",
   "metadata": {},
   "outputs": [],
   "source": [
    "result = pd.DataFrame(A, columns=['session', 'axis', 'rSquare', 'method'])    \n",
    "result.to_csv('./results/fine_tune.csv', index=False, header=True)"
   ]
  },
  {
   "cell_type": "code",
   "execution_count": 4,
   "id": "4433d28a",
   "metadata": {},
   "outputs": [
    {
     "data": {
      "text/plain": [
       "(2.0, 37.0)"
      ]
     },
     "execution_count": 4,
     "metadata": {},
     "output_type": "execute_result"
    },
    {
     "data": {
      "image/png": "[encoded data removed]",
      "text/plain": [
       "<Figure size 1080x576 with 1 Axes>"
      ]
     },
     "metadata": {
      "needs_background": "light"
     },
     "output_type": "display_data"
    }
   ],
   "source": [
    "import seaborn as sns\n",
    "import matplotlib.pyplot as plt\n",
    "\n",
    "result = pd.read_csv('./results/fine_tune.csv')\n",
    "fig, ax = plt.subplots(1, 1, figsize=(15, 8))\n",
    "sns.set(style='white', font_scale=2)\n",
    "sns.barplot(ax=ax, data=result, x=\"session\", y=\"rSquare\", hue=\"axis\")\n",
    "ax.set_xlabel('session')\n",
    "ax.set_ylabel('$R^2$')\n",
    "fig.suptitle('Model fine-tune')\n",
    "ax.set_xlim([2, 37])"
   ]
  },
  {
   "cell_type": "code",
   "execution_count": null,
   "id": "aa42ec1d",
   "metadata": {},
   "outputs": [],
   "source": []
  }
 ],
 "metadata": {
  "kernelspec": {
   "display_name": "Python 3",
   "language": "python",
   "name": "python3"
  },
  "language_info": {
   "codemirror_mode": {
    "name": "ipython",
    "version": 3
   },
   "file_extension": ".py",
   "mimetype": "text/x-python",
   "name": "python",
   "nbconvert_exporter": "python",
   "pygments_lexer": "ipython3",
   "version": "3.8.8"
  }
 },
 "nbformat": 4,
 "nbformat_minor": 5
}
