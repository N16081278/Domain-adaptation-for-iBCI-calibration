{
 "cells": [
  {
   "cell_type": "code",
   "execution_count": 1,
   "id": "bd126249",
   "metadata": {},
   "outputs": [],
   "source": [
    "import numpy as np\n",
    "import pandas as pd\n",
    "import torch\n",
    "import train\n",
    "import dataloader\n",
    "from utils import get_free_gpu\n",
    "import testt\n",
    "import seaborn as sns\n",
    "import matplotlib.pyplot as plt\n",
    "import param\n",
    "import model"
   ]
  },
  {
   "cell_type": "code",
   "execution_count": null,
   "id": "305d25ad",
   "metadata": {},
   "outputs": [],
   "source": [
    "save_name = 'DANN'\n",
    "A = []\n",
    "for target in range(2, 38):\n",
    "    S_train_loader, S_val_loader = dataloader.Source_dataloader(target-1)\n",
    "    T_train_loader, T_test_loader = dataloader.Target_dataloader(target)\n",
    "\n",
    "    if torch.cuda.is_available():\n",
    "        get_free_gpu()\n",
    "        print('Running GPU : {}'.format(torch.cuda.current_device()))\n",
    "        encoder = model.Extractor().cuda()\n",
    "        decoder = model.Decoder().cuda()\n",
    "        discriminator = model.Discriminator().cuda()\n",
    "        total_time = train.DANN_train(encoder, decoder, discriminator, \n",
    "                   S_train_loader, T_train_loader, save_name, param.target_label)\n",
    "    else:\n",
    "        print(\"There is no GPU -_-!\")\n",
    "\n",
    "    S_r2_x, S_r2_y, T_r2_x, T_r2_y, accuracy = testt.DA_tester(encoder, decoder, discriminator, S_val_loader, T_test_loader)\n",
    "    print(\"R2x : \", T_r2_x)\n",
    "    print(\"R2y : \", T_r2_y)\n",
    "#     a = [[S_r2_x, S_r2_y, T_r2_x, T_r2_y, accuracy, total_time]]\n",
    "    A.append([target, 'x', T_r2_x, 'domain_adversarial'])\n",
    "    A.append([target, 'y', T_r2_y, 'domain_adversarial'])"
   ]
  },
  {
   "cell_type": "code",
   "execution_count": null,
   "id": "e6ce165a",
   "metadata": {},
   "outputs": [],
   "source": [
    "result = pd.DataFrame(A, columns=['session', 'axis', 'rSquare', 'method']) \n",
    "result.to_csv('./results/domain_adversarial.csv', index=False, header=True)"
   ]
  },
  {
   "cell_type": "code",
   "execution_count": null,
   "id": "28596cdb",
   "metadata": {},
   "outputs": [],
   "source": [
    "import seaborn as sns\n",
    "import matplotlib.pyplot as plt\n",
    "\n",
    "result = pd.read_csv('./results/domain_adversarial.csv')\n",
    "fig, ax = plt.subplots(1, 1, figsize=(18, 8))\n",
    "sns.set(style='white', font_scale=2)\n",
    "sns.barplot(ax=ax, data=result, x=\"session\", y=\"rSquare\", hue=\"axis\")\n",
    "ax.set_xlabel('session')\n",
    "ax.set_ylabel('$R^2$')\n",
    "fig.suptitle('Domain adversarial calibration')\n",
    "# ax.set_xlim([0, 37])"
   ]
  },
  {
   "cell_type": "code",
   "execution_count": null,
   "id": "1f850af5",
   "metadata": {},
   "outputs": [],
   "source": []
  },
  {
   "cell_type": "code",
   "execution_count": null,
   "id": "cd2cb82d",
   "metadata": {},
   "outputs": [],
   "source": []
  }
 ],
 "metadata": {
  "kernelspec": {
   "display_name": "Python 3",
   "language": "python",
   "name": "python3"
  },
  "language_info": {
   "codemirror_mode": {
    "name": "ipython",
    "version": 3
   },
   "file_extension": ".py",
   "mimetype": "text/x-python",
   "name": "python",
   "nbconvert_exporter": "python",
   "pygments_lexer": "ipython3",
   "version": "3.8.8"
  }
 },
 "nbformat": 4,
 "nbformat_minor": 5
}
