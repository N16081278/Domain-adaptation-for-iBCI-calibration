{
 "cells": [
  {
   "cell_type": "code",
   "execution_count": 4,
   "id": "049fe54f",
   "metadata": {},
   "outputs": [],
   "source": [
    "import numpy as np\n",
    "import pandas as pd\n",
    "import torch\n",
    "import train\n",
    "import dataloader\n",
    "from utils import get_free_gpu\n",
    "import testt\n",
    "import seaborn as sns\n",
    "import matplotlib.pyplot as plt\n",
    "import param\n",
    "import model"
   ]
  },
  {
   "cell_type": "code",
   "execution_count": 5,
   "id": "b160d400",
   "metadata": {},
   "outputs": [
    {
     "name": "stdout",
     "output_type": "stream",
     "text": [
      "session:  1\n",
      "\n",
      "Session= 1\n",
      "Dataset : /home/jovyan/dataset/indy/Sorted_Spike_Dataset/indy_20160407_02.mat\n",
      "Unsort Data shape: (12776, 96)\n",
      "Running GPU : 0\n",
      "Training\n"
     ]
    },
    {
     "name": "stderr",
     "output_type": "stream",
     "text": [
      "/opt/conda/lib/python3.8/site-packages/torch/nn/modules/rnn.py:60: UserWarning: dropout option adds dropout after all but last recurrent layer, so non-zero dropout expects num_layers greater than 1, but got dropout=0.2 and num_layers=1\n",
      "  warnings.warn(\"dropout option adds dropout after all but last \"\n"
     ]
    },
    {
     "name": "stdout",
     "output_type": "stream",
     "text": [
      "Model test ...\n",
      "R2x :  0.6350978908123752\n",
      "R2y :  0.6655000737658747\n",
      "session:  2\n",
      "\n",
      "Session= 2\n",
      "Dataset : /home/jovyan/dataset/indy/Sorted_Spike_Dataset/indy_20160411_01.mat\n",
      "Unsort Data shape: (14893, 96)\n",
      "Running GPU : 0\n",
      "Training\n"
     ]
    },
    {
     "name": "stderr",
     "output_type": "stream",
     "text": [
      "/opt/conda/lib/python3.8/site-packages/torch/nn/modules/rnn.py:60: UserWarning: dropout option adds dropout after all but last recurrent layer, so non-zero dropout expects num_layers greater than 1, but got dropout=0.2 and num_layers=1\n",
      "  warnings.warn(\"dropout option adds dropout after all but last \"\n"
     ]
    },
    {
     "name": "stdout",
     "output_type": "stream",
     "text": [
      "Model test ...\n",
      "R2x :  0.7277543909777924\n",
      "R2y :  0.7568657492941508\n",
      "session:  3\n",
      "\n",
      "Session= 3\n",
      "Dataset : /home/jovyan/dataset/indy/Sorted_Spike_Dataset/indy_20160411_02.mat\n",
      "Unsort Data shape: (13748, 96)\n",
      "Running GPU : 0\n",
      "Training\n"
     ]
    },
    {
     "name": "stderr",
     "output_type": "stream",
     "text": [
      "/opt/conda/lib/python3.8/site-packages/torch/nn/modules/rnn.py:60: UserWarning: dropout option adds dropout after all but last recurrent layer, so non-zero dropout expects num_layers greater than 1, but got dropout=0.2 and num_layers=1\n",
      "  warnings.warn(\"dropout option adds dropout after all but last \"\n"
     ]
    },
    {
     "name": "stdout",
     "output_type": "stream",
     "text": [
      "Model test ...\n",
      "R2x :  0.7203595842832728\n",
      "R2y :  0.7452000481406345\n",
      "session:  4\n",
      "\n",
      "Session= 4\n",
      "Dataset : /home/jovyan/dataset/indy/Sorted_Spike_Dataset/indy_20160418_01.mat\n",
      "Unsort Data shape: (21211, 96)\n",
      "Running GPU : 0\n",
      "Training\n"
     ]
    },
    {
     "name": "stderr",
     "output_type": "stream",
     "text": [
      "/opt/conda/lib/python3.8/site-packages/torch/nn/modules/rnn.py:60: UserWarning: dropout option adds dropout after all but last recurrent layer, so non-zero dropout expects num_layers greater than 1, but got dropout=0.2 and num_layers=1\n",
      "  warnings.warn(\"dropout option adds dropout after all but last \"\n"
     ]
    },
    {
     "name": "stdout",
     "output_type": "stream",
     "text": [
      "Model test ...\n",
      "R2x :  0.712682552756458\n",
      "R2y :  0.7333913672743122\n",
      "session:  5\n",
      "\n",
      "Session= 5\n",
      "Dataset : /home/jovyan/dataset/indy/Sorted_Spike_Dataset/indy_20160419_01.mat\n",
      "Unsort Data shape: (8186, 96)\n",
      "Running GPU : 0\n",
      "Training\n"
     ]
    },
    {
     "name": "stderr",
     "output_type": "stream",
     "text": [
      "/opt/conda/lib/python3.8/site-packages/torch/nn/modules/rnn.py:60: UserWarning: dropout option adds dropout after all but last recurrent layer, so non-zero dropout expects num_layers greater than 1, but got dropout=0.2 and num_layers=1\n",
      "  warnings.warn(\"dropout option adds dropout after all but last \"\n"
     ]
    },
    {
     "name": "stdout",
     "output_type": "stream",
     "text": [
      "Model test ...\n",
      "R2x :  0.6956020413229955\n",
      "R2y :  0.6693192474880285\n",
      "session:  6\n",
      "\n",
      "Session= 6\n",
      "Dataset : /home/jovyan/dataset/indy/Sorted_Spike_Dataset/indy_20160420_01.mat\n",
      "Unsort Data shape: (24267, 96)\n",
      "Running GPU : 0\n",
      "Training\n"
     ]
    },
    {
     "name": "stderr",
     "output_type": "stream",
     "text": [
      "/opt/conda/lib/python3.8/site-packages/torch/nn/modules/rnn.py:60: UserWarning: dropout option adds dropout after all but last recurrent layer, so non-zero dropout expects num_layers greater than 1, but got dropout=0.2 and num_layers=1\n",
      "  warnings.warn(\"dropout option adds dropout after all but last \"\n"
     ]
    },
    {
     "name": "stdout",
     "output_type": "stream",
     "text": [
      "Model test ...\n",
      "R2x :  0.7349717080229637\n",
      "R2y :  0.7229451353946822\n",
      "session:  7\n",
      "\n",
      "Session= 7\n",
      "Dataset : /home/jovyan/dataset/indy/Sorted_Spike_Dataset/indy_20160426_01.mat\n",
      "Unsort Data shape: (27531, 96)\n",
      "Running GPU : 0\n",
      "Training\n"
     ]
    },
    {
     "name": "stderr",
     "output_type": "stream",
     "text": [
      "/opt/conda/lib/python3.8/site-packages/torch/nn/modules/rnn.py:60: UserWarning: dropout option adds dropout after all but last recurrent layer, so non-zero dropout expects num_layers greater than 1, but got dropout=0.2 and num_layers=1\n",
      "  warnings.warn(\"dropout option adds dropout after all but last \"\n"
     ]
    },
    {
     "name": "stdout",
     "output_type": "stream",
     "text": [
      "Model test ...\n",
      "R2x :  0.749986615997094\n",
      "R2y :  0.7011001689169424\n",
      "session:  8\n",
      "\n",
      "Session= 8\n",
      "Dataset : /home/jovyan/dataset/indy/Sorted_Spike_Dataset/indy_20160622_01.mat\n",
      "Unsort Data shape: (38275, 96)\n",
      "Running GPU : 0\n",
      "Training\n"
     ]
    },
    {
     "name": "stderr",
     "output_type": "stream",
     "text": [
      "/opt/conda/lib/python3.8/site-packages/torch/nn/modules/rnn.py:60: UserWarning: dropout option adds dropout after all but last recurrent layer, so non-zero dropout expects num_layers greater than 1, but got dropout=0.2 and num_layers=1\n",
      "  warnings.warn(\"dropout option adds dropout after all but last \"\n"
     ]
    },
    {
     "name": "stdout",
     "output_type": "stream",
     "text": [
      "Model test ...\n",
      "R2x :  0.6578473374894479\n",
      "R2y :  0.6071054863689864\n",
      "session:  9\n",
      "\n",
      "Session= 9\n",
      "Dataset : /home/jovyan/dataset/indy/Sorted_Spike_Dataset/indy_20160624_03.mat\n",
      "Unsort Data shape: (7811, 96)\n",
      "Running GPU : 0\n",
      "Training\n"
     ]
    },
    {
     "name": "stderr",
     "output_type": "stream",
     "text": [
      "/opt/conda/lib/python3.8/site-packages/torch/nn/modules/rnn.py:60: UserWarning: dropout option adds dropout after all but last recurrent layer, so non-zero dropout expects num_layers greater than 1, but got dropout=0.2 and num_layers=1\n",
      "  warnings.warn(\"dropout option adds dropout after all but last \"\n"
     ]
    },
    {
     "name": "stdout",
     "output_type": "stream",
     "text": [
      "Model test ...\n",
      "R2x :  0.6345903748107402\n",
      "R2y :  0.7586028550501235\n",
      "session:  10\n",
      "\n",
      "Session= 10\n",
      "Dataset : /home/jovyan/dataset/indy/Sorted_Spike_Dataset/indy_20160627_01.mat\n",
      "Unsort Data shape: (52545, 96)\n",
      "Running GPU : 0\n",
      "Training\n"
     ]
    },
    {
     "name": "stderr",
     "output_type": "stream",
     "text": [
      "/opt/conda/lib/python3.8/site-packages/torch/nn/modules/rnn.py:60: UserWarning: dropout option adds dropout after all but last recurrent layer, so non-zero dropout expects num_layers greater than 1, but got dropout=0.2 and num_layers=1\n",
      "  warnings.warn(\"dropout option adds dropout after all but last \"\n"
     ]
    },
    {
     "name": "stdout",
     "output_type": "stream",
     "text": [
      "Model test ...\n",
      "R2x :  0.6309560025308715\n",
      "R2y :  0.7670265975876936\n",
      "session:  11\n",
      "\n",
      "Session= 11\n",
      "Dataset : /home/jovyan/dataset/indy/Sorted_Spike_Dataset/indy_20160630_01.mat\n",
      "Unsort Data shape: (22862, 96)\n",
      "Running GPU : 0\n",
      "Training\n"
     ]
    },
    {
     "name": "stderr",
     "output_type": "stream",
     "text": [
      "/opt/conda/lib/python3.8/site-packages/torch/nn/modules/rnn.py:60: UserWarning: dropout option adds dropout after all but last recurrent layer, so non-zero dropout expects num_layers greater than 1, but got dropout=0.2 and num_layers=1\n",
      "  warnings.warn(\"dropout option adds dropout after all but last \"\n"
     ]
    },
    {
     "name": "stdout",
     "output_type": "stream",
     "text": [
      "Model test ...\n",
      "R2x :  0.5524193218901405\n",
      "R2y :  0.7104483090172282\n",
      "session:  12\n",
      "\n",
      "Session= 12\n",
      "Dataset : /home/jovyan/dataset/indy/Sorted_Spike_Dataset/indy_20160915_01.mat\n",
      "Unsort Data shape: (5952, 96)\n",
      "Running GPU : 0\n",
      "Training\n"
     ]
    },
    {
     "name": "stderr",
     "output_type": "stream",
     "text": [
      "/opt/conda/lib/python3.8/site-packages/torch/nn/modules/rnn.py:60: UserWarning: dropout option adds dropout after all but last recurrent layer, so non-zero dropout expects num_layers greater than 1, but got dropout=0.2 and num_layers=1\n",
      "  warnings.warn(\"dropout option adds dropout after all but last \"\n"
     ]
    },
    {
     "name": "stdout",
     "output_type": "stream",
     "text": [
      "Model test ...\n",
      "R2x :  0.6694754182747098\n",
      "R2y :  0.7524643400136343\n",
      "session:  13\n",
      "\n",
      "Session= 13\n",
      "Dataset : /home/jovyan/dataset/indy/Sorted_Spike_Dataset/indy_20160916_01.mat\n",
      "Unsort Data shape: (7058, 96)\n",
      "Running GPU : 0\n",
      "Training\n"
     ]
    },
    {
     "name": "stderr",
     "output_type": "stream",
     "text": [
      "/opt/conda/lib/python3.8/site-packages/torch/nn/modules/rnn.py:60: UserWarning: dropout option adds dropout after all but last recurrent layer, so non-zero dropout expects num_layers greater than 1, but got dropout=0.2 and num_layers=1\n",
      "  warnings.warn(\"dropout option adds dropout after all but last \"\n"
     ]
    },
    {
     "name": "stdout",
     "output_type": "stream",
     "text": [
      "Model test ...\n",
      "R2x :  0.7154734236665456\n",
      "R2y :  0.8197536781885508\n",
      "session:  14\n",
      "\n",
      "Session= 14\n",
      "Dataset : /home/jovyan/dataset/indy/Sorted_Spike_Dataset/indy_20160921_01.mat\n",
      "Unsort Data shape: (5626, 96)\n",
      "Running GPU : 0\n",
      "Training\n"
     ]
    },
    {
     "name": "stderr",
     "output_type": "stream",
     "text": [
      "/opt/conda/lib/python3.8/site-packages/torch/nn/modules/rnn.py:60: UserWarning: dropout option adds dropout after all but last recurrent layer, so non-zero dropout expects num_layers greater than 1, but got dropout=0.2 and num_layers=1\n",
      "  warnings.warn(\"dropout option adds dropout after all but last \"\n"
     ]
    },
    {
     "name": "stdout",
     "output_type": "stream",
     "text": [
      "Model test ...\n",
      "R2x :  0.7109543676705574\n",
      "R2y :  0.818099651806419\n",
      "session:  15\n",
      "\n",
      "Session= 15\n",
      "Dataset : /home/jovyan/dataset/indy/Sorted_Spike_Dataset/indy_20160927_04.mat\n",
      "Unsort Data shape: (6082, 96)\n",
      "Running GPU : 0\n",
      "Training\n"
     ]
    },
    {
     "name": "stderr",
     "output_type": "stream",
     "text": [
      "/opt/conda/lib/python3.8/site-packages/torch/nn/modules/rnn.py:60: UserWarning: dropout option adds dropout after all but last recurrent layer, so non-zero dropout expects num_layers greater than 1, but got dropout=0.2 and num_layers=1\n",
      "  warnings.warn(\"dropout option adds dropout after all but last \"\n"
     ]
    },
    {
     "name": "stdout",
     "output_type": "stream",
     "text": [
      "Model test ...\n",
      "R2x :  0.709152625592957\n",
      "R2y :  0.8359113161068579\n",
      "session:  16\n",
      "\n",
      "Session= 16\n",
      "Dataset : /home/jovyan/dataset/indy/Sorted_Spike_Dataset/indy_20160927_06.mat\n",
      "Unsort Data shape: (6577, 96)\n",
      "Running GPU : 0\n",
      "Training\n"
     ]
    },
    {
     "name": "stderr",
     "output_type": "stream",
     "text": [
      "/opt/conda/lib/python3.8/site-packages/torch/nn/modules/rnn.py:60: UserWarning: dropout option adds dropout after all but last recurrent layer, so non-zero dropout expects num_layers greater than 1, but got dropout=0.2 and num_layers=1\n",
      "  warnings.warn(\"dropout option adds dropout after all but last \"\n"
     ]
    },
    {
     "name": "stdout",
     "output_type": "stream",
     "text": [
      "Model test ...\n",
      "R2x :  0.6876559325321621\n",
      "R2y :  0.7869819106194469\n",
      "session:  17\n",
      "\n",
      "Session= 17\n",
      "Dataset : /home/jovyan/dataset/indy/Sorted_Spike_Dataset/indy_20160930_02.mat\n",
      "Unsort Data shape: (7198, 96)\n",
      "Running GPU : 0\n",
      "Training\n"
     ]
    },
    {
     "name": "stderr",
     "output_type": "stream",
     "text": [
      "/opt/conda/lib/python3.8/site-packages/torch/nn/modules/rnn.py:60: UserWarning: dropout option adds dropout after all but last recurrent layer, so non-zero dropout expects num_layers greater than 1, but got dropout=0.2 and num_layers=1\n",
      "  warnings.warn(\"dropout option adds dropout after all but last \"\n"
     ]
    },
    {
     "name": "stdout",
     "output_type": "stream",
     "text": [
      "Model test ...\n",
      "R2x :  0.6717264711459829\n",
      "R2y :  0.7689203363135395\n",
      "session:  18\n",
      "\n",
      "Session= 18\n",
      "Dataset : /home/jovyan/dataset/indy/Sorted_Spike_Dataset/indy_20160930_05.mat\n",
      "Unsort Data shape: (6342, 96)\n",
      "Running GPU : 0\n",
      "Training\n"
     ]
    },
    {
     "name": "stderr",
     "output_type": "stream",
     "text": [
      "/opt/conda/lib/python3.8/site-packages/torch/nn/modules/rnn.py:60: UserWarning: dropout option adds dropout after all but last recurrent layer, so non-zero dropout expects num_layers greater than 1, but got dropout=0.2 and num_layers=1\n",
      "  warnings.warn(\"dropout option adds dropout after all but last \"\n"
     ]
    },
    {
     "name": "stdout",
     "output_type": "stream",
     "text": [
      "Model test ...\n",
      "R2x :  0.6834502208286537\n",
      "R2y :  0.7969949899482908\n",
      "session:  19\n",
      "\n",
      "Session= 19\n",
      "Dataset : /home/jovyan/dataset/indy/Sorted_Spike_Dataset/indy_20161005_06.mat\n",
      "Unsort Data shape: (5842, 96)\n",
      "Running GPU : 0\n",
      "Training\n"
     ]
    },
    {
     "name": "stderr",
     "output_type": "stream",
     "text": [
      "/opt/conda/lib/python3.8/site-packages/torch/nn/modules/rnn.py:60: UserWarning: dropout option adds dropout after all but last recurrent layer, so non-zero dropout expects num_layers greater than 1, but got dropout=0.2 and num_layers=1\n",
      "  warnings.warn(\"dropout option adds dropout after all but last \"\n"
     ]
    },
    {
     "name": "stdout",
     "output_type": "stream",
     "text": [
      "Model test ...\n",
      "R2x :  0.7028921990752186\n",
      "R2y :  0.8081347771782167\n",
      "session:  20\n",
      "\n",
      "Session= 20\n",
      "Dataset : /home/jovyan/dataset/indy/Sorted_Spike_Dataset/indy_20161006_02.mat\n",
      "Unsort Data shape: (7842, 96)\n",
      "Running GPU : 0\n",
      "Training\n"
     ]
    },
    {
     "name": "stderr",
     "output_type": "stream",
     "text": [
      "/opt/conda/lib/python3.8/site-packages/torch/nn/modules/rnn.py:60: UserWarning: dropout option adds dropout after all but last recurrent layer, so non-zero dropout expects num_layers greater than 1, but got dropout=0.2 and num_layers=1\n",
      "  warnings.warn(\"dropout option adds dropout after all but last \"\n"
     ]
    },
    {
     "name": "stdout",
     "output_type": "stream",
     "text": [
      "Model test ...\n",
      "R2x :  0.687117165775036\n",
      "R2y :  0.7941925976425349\n",
      "session:  21\n",
      "\n",
      "Session= 21\n",
      "Dataset : /home/jovyan/dataset/indy/Sorted_Spike_Dataset/indy_20161007_02.mat\n",
      "Unsort Data shape: (7676, 96)\n",
      "Running GPU : 0\n",
      "Training\n"
     ]
    },
    {
     "name": "stderr",
     "output_type": "stream",
     "text": [
      "/opt/conda/lib/python3.8/site-packages/torch/nn/modules/rnn.py:60: UserWarning: dropout option adds dropout after all but last recurrent layer, so non-zero dropout expects num_layers greater than 1, but got dropout=0.2 and num_layers=1\n",
      "  warnings.warn(\"dropout option adds dropout after all but last \"\n"
     ]
    },
    {
     "name": "stdout",
     "output_type": "stream",
     "text": [
      "Model test ...\n",
      "R2x :  0.6935697685590434\n",
      "R2y :  0.8010524577123812\n",
      "session:  22\n",
      "\n",
      "Session= 22\n",
      "Dataset : /home/jovyan/dataset/indy/Sorted_Spike_Dataset/indy_20161011_03.mat\n",
      "Unsort Data shape: (10526, 96)\n",
      "Running GPU : 0\n",
      "Training\n"
     ]
    },
    {
     "name": "stderr",
     "output_type": "stream",
     "text": [
      "/opt/conda/lib/python3.8/site-packages/torch/nn/modules/rnn.py:60: UserWarning: dropout option adds dropout after all but last recurrent layer, so non-zero dropout expects num_layers greater than 1, but got dropout=0.2 and num_layers=1\n",
      "  warnings.warn(\"dropout option adds dropout after all but last \"\n"
     ]
    },
    {
     "name": "stdout",
     "output_type": "stream",
     "text": [
      "Model test ...\n",
      "R2x :  0.7023117294566743\n",
      "R2y :  0.7415947686098842\n",
      "session:  23\n",
      "\n",
      "Session= 23\n",
      "Dataset : /home/jovyan/dataset/indy/Sorted_Spike_Dataset/indy_20161013_03.mat\n",
      "Unsort Data shape: (8084, 96)\n",
      "Running GPU : 0\n",
      "Training\n"
     ]
    },
    {
     "name": "stderr",
     "output_type": "stream",
     "text": [
      "/opt/conda/lib/python3.8/site-packages/torch/nn/modules/rnn.py:60: UserWarning: dropout option adds dropout after all but last recurrent layer, so non-zero dropout expects num_layers greater than 1, but got dropout=0.2 and num_layers=1\n",
      "  warnings.warn(\"dropout option adds dropout after all but last \"\n"
     ]
    },
    {
     "name": "stdout",
     "output_type": "stream",
     "text": [
      "Model test ...\n",
      "R2x :  0.7179036574066382\n",
      "R2y :  0.7515754338572607\n",
      "session:  24\n",
      "\n",
      "Session= 24\n",
      "Dataset : /home/jovyan/dataset/indy/Sorted_Spike_Dataset/indy_20161014_04.mat\n",
      "Unsort Data shape: (8108, 96)\n",
      "Running GPU : 0\n",
      "Training\n"
     ]
    },
    {
     "name": "stderr",
     "output_type": "stream",
     "text": [
      "/opt/conda/lib/python3.8/site-packages/torch/nn/modules/rnn.py:60: UserWarning: dropout option adds dropout after all but last recurrent layer, so non-zero dropout expects num_layers greater than 1, but got dropout=0.2 and num_layers=1\n",
      "  warnings.warn(\"dropout option adds dropout after all but last \"\n"
     ]
    },
    {
     "name": "stdout",
     "output_type": "stream",
     "text": [
      "Model test ...\n",
      "R2x :  0.7247762313903612\n",
      "R2y :  0.8028610105639501\n",
      "session:  25\n",
      "\n",
      "Session= 25\n",
      "Dataset : /home/jovyan/dataset/indy/Sorted_Spike_Dataset/indy_20161017_02.mat\n",
      "Unsort Data shape: (7746, 96)\n",
      "Running GPU : 0\n",
      "Training\n"
     ]
    },
    {
     "name": "stderr",
     "output_type": "stream",
     "text": [
      "/opt/conda/lib/python3.8/site-packages/torch/nn/modules/rnn.py:60: UserWarning: dropout option adds dropout after all but last recurrent layer, so non-zero dropout expects num_layers greater than 1, but got dropout=0.2 and num_layers=1\n",
      "  warnings.warn(\"dropout option adds dropout after all but last \"\n"
     ]
    },
    {
     "name": "stdout",
     "output_type": "stream",
     "text": [
      "Model test ...\n",
      "R2x :  0.7173661587237818\n",
      "R2y :  0.7962006561531296\n",
      "session:  26\n",
      "\n",
      "Session= 26\n",
      "Dataset : /home/jovyan/dataset/indy/Sorted_Spike_Dataset/indy_20161024_03.mat\n",
      "Unsort Data shape: (7379, 96)\n",
      "Running GPU : 0\n",
      "Training\n"
     ]
    },
    {
     "name": "stderr",
     "output_type": "stream",
     "text": [
      "/opt/conda/lib/python3.8/site-packages/torch/nn/modules/rnn.py:60: UserWarning: dropout option adds dropout after all but last recurrent layer, so non-zero dropout expects num_layers greater than 1, but got dropout=0.2 and num_layers=1\n",
      "  warnings.warn(\"dropout option adds dropout after all but last \"\n"
     ]
    },
    {
     "name": "stdout",
     "output_type": "stream",
     "text": [
      "Model test ...\n",
      "R2x :  0.7414154866953958\n",
      "R2y :  0.7926958455575406\n",
      "session:  27\n",
      "\n",
      "Session= 27\n",
      "Dataset : /home/jovyan/dataset/indy/Sorted_Spike_Dataset/indy_20161025_04.mat\n",
      "Unsort Data shape: (7874, 96)\n",
      "Running GPU : 0\n",
      "Training\n"
     ]
    },
    {
     "name": "stderr",
     "output_type": "stream",
     "text": [
      "/opt/conda/lib/python3.8/site-packages/torch/nn/modules/rnn.py:60: UserWarning: dropout option adds dropout after all but last recurrent layer, so non-zero dropout expects num_layers greater than 1, but got dropout=0.2 and num_layers=1\n",
      "  warnings.warn(\"dropout option adds dropout after all but last \"\n"
     ]
    },
    {
     "name": "stdout",
     "output_type": "stream",
     "text": [
      "Model test ...\n",
      "R2x :  0.737986763611128\n",
      "R2y :  0.8129475688652015\n",
      "session:  28\n",
      "\n",
      "Session= 28\n",
      "Dataset : /home/jovyan/dataset/indy/Sorted_Spike_Dataset/indy_20161026_03.mat\n",
      "Unsort Data shape: (7771, 96)\n",
      "Running GPU : 0\n",
      "Training\n"
     ]
    },
    {
     "name": "stderr",
     "output_type": "stream",
     "text": [
      "/opt/conda/lib/python3.8/site-packages/torch/nn/modules/rnn.py:60: UserWarning: dropout option adds dropout after all but last recurrent layer, so non-zero dropout expects num_layers greater than 1, but got dropout=0.2 and num_layers=1\n",
      "  warnings.warn(\"dropout option adds dropout after all but last \"\n"
     ]
    },
    {
     "name": "stdout",
     "output_type": "stream",
     "text": [
      "Model test ...\n",
      "R2x :  0.7194321702056266\n",
      "R2y :  0.7697777705017279\n",
      "session:  29\n",
      "\n",
      "Session= 29\n",
      "Dataset : /home/jovyan/dataset/indy/Sorted_Spike_Dataset/indy_20161027_03.mat\n",
      "Unsort Data shape: (9045, 96)\n",
      "Running GPU : 0\n",
      "Training\n"
     ]
    },
    {
     "name": "stderr",
     "output_type": "stream",
     "text": [
      "/opt/conda/lib/python3.8/site-packages/torch/nn/modules/rnn.py:60: UserWarning: dropout option adds dropout after all but last recurrent layer, so non-zero dropout expects num_layers greater than 1, but got dropout=0.2 and num_layers=1\n",
      "  warnings.warn(\"dropout option adds dropout after all but last \"\n"
     ]
    },
    {
     "name": "stdout",
     "output_type": "stream",
     "text": [
      "Model test ...\n",
      "R2x :  0.6801539797628244\n",
      "R2y :  0.7097889700787765\n",
      "session:  30\n",
      "\n",
      "Session= 30\n",
      "Dataset : /home/jovyan/dataset/indy/Sorted_Spike_Dataset/indy_20161206_02.mat\n",
      "Unsort Data shape: (11528, 96)\n",
      "Running GPU : 0\n",
      "Training\n"
     ]
    },
    {
     "name": "stderr",
     "output_type": "stream",
     "text": [
      "/opt/conda/lib/python3.8/site-packages/torch/nn/modules/rnn.py:60: UserWarning: dropout option adds dropout after all but last recurrent layer, so non-zero dropout expects num_layers greater than 1, but got dropout=0.2 and num_layers=1\n",
      "  warnings.warn(\"dropout option adds dropout after all but last \"\n"
     ]
    },
    {
     "name": "stdout",
     "output_type": "stream",
     "text": [
      "Model test ...\n",
      "R2x :  0.5507338999101844\n",
      "R2y :  0.6284293936113869\n",
      "session:  31\n",
      "\n",
      "Session= 31\n",
      "Dataset : /home/jovyan/dataset/indy/Sorted_Spike_Dataset/indy_20161207_02.mat\n",
      "Unsort Data shape: (6953, 96)\n",
      "Running GPU : 0\n",
      "Training\n"
     ]
    },
    {
     "name": "stderr",
     "output_type": "stream",
     "text": [
      "/opt/conda/lib/python3.8/site-packages/torch/nn/modules/rnn.py:60: UserWarning: dropout option adds dropout after all but last recurrent layer, so non-zero dropout expects num_layers greater than 1, but got dropout=0.2 and num_layers=1\n",
      "  warnings.warn(\"dropout option adds dropout after all but last \"\n"
     ]
    },
    {
     "name": "stdout",
     "output_type": "stream",
     "text": [
      "Model test ...\n",
      "R2x :  0.7018923284642149\n",
      "R2y :  0.841773874317869\n",
      "session:  32\n",
      "\n",
      "Session= 32\n",
      "Dataset : /home/jovyan/dataset/indy/Sorted_Spike_Dataset/indy_20161212_02.mat\n",
      "Unsort Data shape: (8760, 96)\n",
      "Running GPU : 0\n",
      "Training\n"
     ]
    },
    {
     "name": "stderr",
     "output_type": "stream",
     "text": [
      "/opt/conda/lib/python3.8/site-packages/torch/nn/modules/rnn.py:60: UserWarning: dropout option adds dropout after all but last recurrent layer, so non-zero dropout expects num_layers greater than 1, but got dropout=0.2 and num_layers=1\n",
      "  warnings.warn(\"dropout option adds dropout after all but last \"\n"
     ]
    },
    {
     "name": "stdout",
     "output_type": "stream",
     "text": [
      "Model test ...\n",
      "R2x :  0.7435286776678971\n",
      "R2y :  0.8257965869957211\n",
      "session:  33\n",
      "\n",
      "Session= 33\n",
      "Dataset : /home/jovyan/dataset/indy/Sorted_Spike_Dataset/indy_20161220_02.mat\n",
      "Unsort Data shape: (9004, 96)\n",
      "Running GPU : 0\n",
      "Training\n"
     ]
    },
    {
     "name": "stderr",
     "output_type": "stream",
     "text": [
      "/opt/conda/lib/python3.8/site-packages/torch/nn/modules/rnn.py:60: UserWarning: dropout option adds dropout after all but last recurrent layer, so non-zero dropout expects num_layers greater than 1, but got dropout=0.2 and num_layers=1\n",
      "  warnings.warn(\"dropout option adds dropout after all but last \"\n"
     ]
    },
    {
     "name": "stdout",
     "output_type": "stream",
     "text": [
      "Model test ...\n",
      "R2x :  0.6163502201795523\n",
      "R2y :  0.7082335351680993\n",
      "session:  34\n",
      "\n",
      "Session= 34\n",
      "Dataset : /home/jovyan/dataset/indy/Sorted_Spike_Dataset/indy_20170123_02.mat\n",
      "Unsort Data shape: (9526, 96)\n",
      "Running GPU : 0\n",
      "Training\n"
     ]
    },
    {
     "name": "stderr",
     "output_type": "stream",
     "text": [
      "/opt/conda/lib/python3.8/site-packages/torch/nn/modules/rnn.py:60: UserWarning: dropout option adds dropout after all but last recurrent layer, so non-zero dropout expects num_layers greater than 1, but got dropout=0.2 and num_layers=1\n",
      "  warnings.warn(\"dropout option adds dropout after all but last \"\n"
     ]
    },
    {
     "name": "stdout",
     "output_type": "stream",
     "text": [
      "Model test ...\n",
      "R2x :  0.7258102612121735\n",
      "R2y :  0.7632175975027288\n",
      "session:  35\n",
      "\n",
      "Session= 35\n",
      "Dataset : /home/jovyan/dataset/indy/Sorted_Spike_Dataset/indy_20170124_01.mat\n",
      "Unsort Data shape: (9217, 96)\n",
      "Running GPU : 0\n",
      "Training\n"
     ]
    },
    {
     "name": "stderr",
     "output_type": "stream",
     "text": [
      "/opt/conda/lib/python3.8/site-packages/torch/nn/modules/rnn.py:60: UserWarning: dropout option adds dropout after all but last recurrent layer, so non-zero dropout expects num_layers greater than 1, but got dropout=0.2 and num_layers=1\n",
      "  warnings.warn(\"dropout option adds dropout after all but last \"\n"
     ]
    },
    {
     "name": "stdout",
     "output_type": "stream",
     "text": [
      "Model test ...\n",
      "R2x :  0.7662454461107079\n",
      "R2y :  0.8188667709438865\n",
      "session:  36\n",
      "\n",
      "Session= 36\n",
      "Dataset : /home/jovyan/dataset/indy/Sorted_Spike_Dataset/indy_20170127_03.mat\n",
      "Unsort Data shape: (11460, 96)\n",
      "Running GPU : 0\n",
      "Training\n"
     ]
    },
    {
     "name": "stderr",
     "output_type": "stream",
     "text": [
      "/opt/conda/lib/python3.8/site-packages/torch/nn/modules/rnn.py:60: UserWarning: dropout option adds dropout after all but last recurrent layer, so non-zero dropout expects num_layers greater than 1, but got dropout=0.2 and num_layers=1\n",
      "  warnings.warn(\"dropout option adds dropout after all but last \"\n"
     ]
    },
    {
     "name": "stdout",
     "output_type": "stream",
     "text": [
      "Model test ...\n",
      "R2x :  0.7634063438157532\n",
      "R2y :  0.7518076508431764\n",
      "session:  37\n",
      "\n",
      "Session= 37\n",
      "Dataset : /home/jovyan/dataset/indy/Sorted_Spike_Dataset/indy_20170131_02.mat\n",
      "Unsort Data shape: (12748, 96)\n",
      "Running GPU : 0\n",
      "Training\n"
     ]
    },
    {
     "name": "stderr",
     "output_type": "stream",
     "text": [
      "/opt/conda/lib/python3.8/site-packages/torch/nn/modules/rnn.py:60: UserWarning: dropout option adds dropout after all but last recurrent layer, so non-zero dropout expects num_layers greater than 1, but got dropout=0.2 and num_layers=1\n",
      "  warnings.warn(\"dropout option adds dropout after all but last \"\n"
     ]
    },
    {
     "name": "stdout",
     "output_type": "stream",
     "text": [
      "Model test ...\n",
      "R2x :  0.6937853657587016\n",
      "R2y :  0.7173412947256516\n"
     ]
    },
    {
     "data": {
      "image/png": "[encoded data removed]",
      "text/plain": [
       "<Figure size 432x288 with 1 Axes>"
      ]
     },
     "metadata": {
      "needs_background": "light"
     },
     "output_type": "display_data"
    }
   ],
   "source": [
    "A = []\n",
    "for session in range(1, 38):\n",
    "    train_loader, test_loader = dataloader.New_Dataloader(session)\n",
    "\n",
    "    if torch.cuda.is_available():\n",
    "        get_free_gpu()\n",
    "        print('Running GPU : {}'.format(torch.cuda.current_device()))\n",
    "        encoder = model.Extractor().cuda()\n",
    "        decoder = model.Decoder().cuda()\n",
    "        time = train.GRU_train(encoder, decoder, train_loader)\n",
    "    else:\n",
    "        print(\"There is no GPU -_-!\")\n",
    "\n",
    "    r2_x, r2_y = testt.tester(encoder, decoder, test_loader)\n",
    "    print(\"R2x : \", r2_x)\n",
    "    print(\"R2y : \", r2_y)\n",
    "    \n",
    "    A.append([session, 'x', r2_x, 'daily_retrain'])\n",
    "    A.append([session, 'y', r2_y, 'daily_retrain'])"
   ]
  },
  {
   "cell_type": "code",
   "execution_count": 6,
   "id": "2d4972ca",
   "metadata": {},
   "outputs": [],
   "source": [
    "result = pd.DataFrame(A, columns=['session', 'axis', 'rSquare', 'method'])    \n",
    "result.to_csv('./results/daily_retrain.csv', index=False, header=True)"
   ]
  },
  {
   "cell_type": "code",
   "execution_count": 8,
   "id": "5a2c7ca1",
   "metadata": {},
   "outputs": [
    {
     "data": {
      "text/plain": [
       "(1.0, 37.0)"
      ]
     },
     "execution_count": 8,
     "metadata": {},
     "output_type": "execute_result"
    },
    {
     "data": {
      "image/png": "[encoded data removed]",
      "text/plain": [
       "<Figure size 1080x576 with 1 Axes>"
      ]
     },
     "metadata": {
      "needs_background": "light"
     },
     "output_type": "display_data"
    }
   ],
   "source": [
    "import seaborn as sns\n",
    "import matplotlib.pyplot as plt\n",
    "\n",
    "result = pd.read_csv('./results/daily_retrain.csv')\n",
    "fig, ax = plt.subplots(1, 1, figsize=(15, 8))\n",
    "sns.set(style='white', font_scale=2)\n",
    "sns.barplot(ax=ax, data=result, x=\"session\", y=\"rSquare\", hue=\"axis\")\n",
    "ax.set_xlabel('session')\n",
    "ax.set_ylabel('$R^2$')\n",
    "fig.suptitle('Daily retrain')\n",
    "ax.set_xlim([1, 37])"
   ]
  },
  {
   "cell_type": "code",
   "execution_count": null,
   "id": "02f6a219",
   "metadata": {},
   "outputs": [],
   "source": []
  }
 ],
 "metadata": {
  "kernelspec": {
   "display_name": "Python 3",
   "language": "python",
   "name": "python3"
  },
  "language_info": {
   "codemirror_mode": {
    "name": "ipython",
    "version": 3
   },
   "file_extension": ".py",
   "mimetype": "text/x-python",
   "name": "python",
   "nbconvert_exporter": "python",
   "pygments_lexer": "ipython3",
   "version": "3.8.8"
  }
 },
 "nbformat": 4,
 "nbformat_minor": 5
}
