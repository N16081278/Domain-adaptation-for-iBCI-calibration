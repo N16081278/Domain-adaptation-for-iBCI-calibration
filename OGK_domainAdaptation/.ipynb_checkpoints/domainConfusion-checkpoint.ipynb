{
 "cells": [
  {
   "cell_type": "code",
   "execution_count": 7,
   "id": "37ccd4fd",
   "metadata": {},
   "outputs": [],
   "source": [
    "import numpy as np\n",
    "import pandas as pd\n",
    "import torch\n",
    "import train\n",
    "import dataloader\n",
    "from utils import get_free_gpu\n",
    "import testt\n",
    "import seaborn as sns\n",
    "import matplotlib.pyplot as plt\n",
    "import param\n",
    "import model"
   ]
  },
  {
   "cell_type": "code",
   "execution_count": 8,
   "id": "5ab14b6a",
   "metadata": {},
   "outputs": [
    {
     "name": "stdout",
     "output_type": "stream",
     "text": [
      "session:  1\n",
      "\n",
      "Session= 1\n",
      "Dataset : /home/jovyan/dataset/indy/Sorted_Spike_Dataset/indy_20160407_02.mat\n",
      "Unsort Data shape: (12776, 96)\n",
      "session:  2\n",
      "\n",
      "Session= 2\n",
      "Dataset : /home/jovyan/dataset/indy/Sorted_Spike_Dataset/indy_20160411_01.mat\n",
      "Unsort Data shape: (14893, 96)\n",
      "Running GPU : 0\n",
      "Deep domain confusion training\n"
     ]
    },
    {
     "name": "stderr",
     "output_type": "stream",
     "text": [
      "/opt/conda/lib/python3.8/site-packages/torch/nn/modules/rnn.py:60: UserWarning: dropout option adds dropout after all but last recurrent layer, so non-zero dropout expects num_layers greater than 1, but got dropout=0.2 and num_layers=1\n",
      "  warnings.warn(\"dropout option adds dropout after all but last \"\n"
     ]
    },
    {
     "name": "stdout",
     "output_type": "stream",
     "text": [
      "Model test ...\n",
      "R2x :  0.6782420163190681\n",
      "R2y :  0.6990983472457091\n",
      "session:  2\n",
      "\n",
      "Session= 2\n",
      "Dataset : /home/jovyan/dataset/indy/Sorted_Spike_Dataset/indy_20160411_01.mat\n",
      "Unsort Data shape: (14893, 96)\n",
      "session:  3\n",
      "\n",
      "Session= 3\n",
      "Dataset : /home/jovyan/dataset/indy/Sorted_Spike_Dataset/indy_20160411_02.mat\n",
      "Unsort Data shape: (13748, 96)\n",
      "Running GPU : 0\n",
      "Deep domain confusion training\n"
     ]
    },
    {
     "name": "stderr",
     "output_type": "stream",
     "text": [
      "/opt/conda/lib/python3.8/site-packages/torch/nn/modules/rnn.py:60: UserWarning: dropout option adds dropout after all but last recurrent layer, so non-zero dropout expects num_layers greater than 1, but got dropout=0.2 and num_layers=1\n",
      "  warnings.warn(\"dropout option adds dropout after all but last \"\n"
     ]
    },
    {
     "name": "stdout",
     "output_type": "stream",
     "text": [
      "Model test ...\n",
      "R2x :  0.698518614347322\n",
      "R2y :  0.7300379393738865\n",
      "session:  3\n",
      "\n",
      "Session= 3\n",
      "Dataset : /home/jovyan/dataset/indy/Sorted_Spike_Dataset/indy_20160411_02.mat\n",
      "Unsort Data shape: (13748, 96)\n",
      "session:  4\n",
      "\n",
      "Session= 4\n",
      "Dataset : /home/jovyan/dataset/indy/Sorted_Spike_Dataset/indy_20160418_01.mat\n",
      "Unsort Data shape: (21211, 96)\n",
      "Running GPU : 0\n",
      "Deep domain confusion training\n"
     ]
    },
    {
     "name": "stderr",
     "output_type": "stream",
     "text": [
      "/opt/conda/lib/python3.8/site-packages/torch/nn/modules/rnn.py:60: UserWarning: dropout option adds dropout after all but last recurrent layer, so non-zero dropout expects num_layers greater than 1, but got dropout=0.2 and num_layers=1\n",
      "  warnings.warn(\"dropout option adds dropout after all but last \"\n"
     ]
    },
    {
     "name": "stdout",
     "output_type": "stream",
     "text": [
      "Model test ...\n",
      "R2x :  0.6819238589132249\n",
      "R2y :  0.7163235397181376\n",
      "session:  4\n",
      "\n",
      "Session= 4\n",
      "Dataset : /home/jovyan/dataset/indy/Sorted_Spike_Dataset/indy_20160418_01.mat\n",
      "Unsort Data shape: (21211, 96)\n",
      "session:  5\n",
      "\n",
      "Session= 5\n",
      "Dataset : /home/jovyan/dataset/indy/Sorted_Spike_Dataset/indy_20160419_01.mat\n",
      "Unsort Data shape: (8186, 96)\n",
      "Running GPU : 0\n",
      "Deep domain confusion training\n"
     ]
    },
    {
     "name": "stderr",
     "output_type": "stream",
     "text": [
      "/opt/conda/lib/python3.8/site-packages/torch/nn/modules/rnn.py:60: UserWarning: dropout option adds dropout after all but last recurrent layer, so non-zero dropout expects num_layers greater than 1, but got dropout=0.2 and num_layers=1\n",
      "  warnings.warn(\"dropout option adds dropout after all but last \"\n"
     ]
    },
    {
     "name": "stdout",
     "output_type": "stream",
     "text": [
      "Model test ...\n",
      "R2x :  0.652134657138406\n",
      "R2y :  0.6439355544792356\n",
      "session:  5\n",
      "\n",
      "Session= 5\n",
      "Dataset : /home/jovyan/dataset/indy/Sorted_Spike_Dataset/indy_20160419_01.mat\n",
      "Unsort Data shape: (8186, 96)\n",
      "session:  6\n",
      "\n",
      "Session= 6\n",
      "Dataset : /home/jovyan/dataset/indy/Sorted_Spike_Dataset/indy_20160420_01.mat\n",
      "Unsort Data shape: (24267, 96)\n",
      "Running GPU : 0\n",
      "Deep domain confusion training\n"
     ]
    },
    {
     "name": "stderr",
     "output_type": "stream",
     "text": [
      "/opt/conda/lib/python3.8/site-packages/torch/nn/modules/rnn.py:60: UserWarning: dropout option adds dropout after all but last recurrent layer, so non-zero dropout expects num_layers greater than 1, but got dropout=0.2 and num_layers=1\n",
      "  warnings.warn(\"dropout option adds dropout after all but last \"\n"
     ]
    },
    {
     "name": "stdout",
     "output_type": "stream",
     "text": [
      "Model test ...\n",
      "R2x :  0.7744637413465262\n",
      "R2y :  0.7391417457695976\n",
      "session:  6\n",
      "\n",
      "Session= 6\n",
      "Dataset : /home/jovyan/dataset/indy/Sorted_Spike_Dataset/indy_20160420_01.mat\n",
      "Unsort Data shape: (24267, 96)\n",
      "session:  7\n",
      "\n",
      "Session= 7\n",
      "Dataset : /home/jovyan/dataset/indy/Sorted_Spike_Dataset/indy_20160426_01.mat\n",
      "Unsort Data shape: (27531, 96)\n",
      "Running GPU : 0\n",
      "Deep domain confusion training\n"
     ]
    },
    {
     "name": "stderr",
     "output_type": "stream",
     "text": [
      "/opt/conda/lib/python3.8/site-packages/torch/nn/modules/rnn.py:60: UserWarning: dropout option adds dropout after all but last recurrent layer, so non-zero dropout expects num_layers greater than 1, but got dropout=0.2 and num_layers=1\n",
      "  warnings.warn(\"dropout option adds dropout after all but last \"\n"
     ]
    },
    {
     "name": "stdout",
     "output_type": "stream",
     "text": [
      "Model test ...\n",
      "R2x :  0.7238114425972876\n",
      "R2y :  0.614801053086738\n",
      "session:  7\n",
      "\n",
      "Session= 7\n",
      "Dataset : /home/jovyan/dataset/indy/Sorted_Spike_Dataset/indy_20160426_01.mat\n",
      "Unsort Data shape: (27531, 96)\n",
      "session:  8\n",
      "\n",
      "Session= 8\n",
      "Dataset : /home/jovyan/dataset/indy/Sorted_Spike_Dataset/indy_20160622_01.mat\n",
      "Unsort Data shape: (38275, 96)\n",
      "Running GPU : 0\n",
      "Deep domain confusion training\n"
     ]
    },
    {
     "name": "stderr",
     "output_type": "stream",
     "text": [
      "/opt/conda/lib/python3.8/site-packages/torch/nn/modules/rnn.py:60: UserWarning: dropout option adds dropout after all but last recurrent layer, so non-zero dropout expects num_layers greater than 1, but got dropout=0.2 and num_layers=1\n",
      "  warnings.warn(\"dropout option adds dropout after all but last \"\n"
     ]
    },
    {
     "name": "stdout",
     "output_type": "stream",
     "text": [
      "Model test ...\n",
      "R2x :  0.6747876788941093\n",
      "R2y :  0.6059053024153433\n",
      "session:  8\n",
      "\n",
      "Session= 8\n",
      "Dataset : /home/jovyan/dataset/indy/Sorted_Spike_Dataset/indy_20160622_01.mat\n",
      "Unsort Data shape: (38275, 96)\n",
      "session:  9\n",
      "\n",
      "Session= 9\n",
      "Dataset : /home/jovyan/dataset/indy/Sorted_Spike_Dataset/indy_20160624_03.mat\n",
      "Unsort Data shape: (7811, 96)\n",
      "Running GPU : 0\n",
      "Deep domain confusion training\n"
     ]
    },
    {
     "name": "stderr",
     "output_type": "stream",
     "text": [
      "/opt/conda/lib/python3.8/site-packages/torch/nn/modules/rnn.py:60: UserWarning: dropout option adds dropout after all but last recurrent layer, so non-zero dropout expects num_layers greater than 1, but got dropout=0.2 and num_layers=1\n",
      "  warnings.warn(\"dropout option adds dropout after all but last \"\n"
     ]
    },
    {
     "name": "stdout",
     "output_type": "stream",
     "text": [
      "Model test ...\n",
      "R2x :  0.573366767722026\n",
      "R2y :  0.701371783982748\n",
      "session:  9\n",
      "\n",
      "Session= 9\n",
      "Dataset : /home/jovyan/dataset/indy/Sorted_Spike_Dataset/indy_20160624_03.mat\n",
      "Unsort Data shape: (7811, 96)\n",
      "session:  10\n",
      "\n",
      "Session= 10\n",
      "Dataset : /home/jovyan/dataset/indy/Sorted_Spike_Dataset/indy_20160627_01.mat\n",
      "Unsort Data shape: (52545, 96)\n",
      "Running GPU : 0\n",
      "Deep domain confusion training\n"
     ]
    },
    {
     "name": "stderr",
     "output_type": "stream",
     "text": [
      "/opt/conda/lib/python3.8/site-packages/torch/nn/modules/rnn.py:60: UserWarning: dropout option adds dropout after all but last recurrent layer, so non-zero dropout expects num_layers greater than 1, but got dropout=0.2 and num_layers=1\n",
      "  warnings.warn(\"dropout option adds dropout after all but last \"\n"
     ]
    },
    {
     "name": "stdout",
     "output_type": "stream",
     "text": [
      "Model test ...\n",
      "R2x :  0.675634566112996\n",
      "R2y :  0.7855965911999109\n",
      "session:  10\n",
      "\n",
      "Session= 10\n",
      "Dataset : /home/jovyan/dataset/indy/Sorted_Spike_Dataset/indy_20160627_01.mat\n",
      "Unsort Data shape: (52545, 96)\n",
      "session:  11\n",
      "\n",
      "Session= 11\n",
      "Dataset : /home/jovyan/dataset/indy/Sorted_Spike_Dataset/indy_20160630_01.mat\n",
      "Unsort Data shape: (22862, 96)\n",
      "Running GPU : 0\n",
      "Deep domain confusion training\n"
     ]
    },
    {
     "name": "stderr",
     "output_type": "stream",
     "text": [
      "/opt/conda/lib/python3.8/site-packages/torch/nn/modules/rnn.py:60: UserWarning: dropout option adds dropout after all but last recurrent layer, so non-zero dropout expects num_layers greater than 1, but got dropout=0.2 and num_layers=1\n",
      "  warnings.warn(\"dropout option adds dropout after all but last \"\n"
     ]
    },
    {
     "name": "stdout",
     "output_type": "stream",
     "text": [
      "Model test ...\n",
      "R2x :  0.45951743313898774\n",
      "R2y :  0.6647676665883717\n",
      "session:  11\n",
      "\n",
      "Session= 11\n",
      "Dataset : /home/jovyan/dataset/indy/Sorted_Spike_Dataset/indy_20160630_01.mat\n",
      "Unsort Data shape: (22862, 96)\n",
      "session:  12\n",
      "\n",
      "Session= 12\n",
      "Dataset : /home/jovyan/dataset/indy/Sorted_Spike_Dataset/indy_20160915_01.mat\n",
      "Unsort Data shape: (5952, 96)\n",
      "Running GPU : 0\n",
      "Deep domain confusion training\n"
     ]
    },
    {
     "name": "stderr",
     "output_type": "stream",
     "text": [
      "/opt/conda/lib/python3.8/site-packages/torch/nn/modules/rnn.py:60: UserWarning: dropout option adds dropout after all but last recurrent layer, so non-zero dropout expects num_layers greater than 1, but got dropout=0.2 and num_layers=1\n",
      "  warnings.warn(\"dropout option adds dropout after all but last \"\n"
     ]
    },
    {
     "name": "stdout",
     "output_type": "stream",
     "text": [
      "Model test ...\n",
      "R2x :  0.6110886057687921\n",
      "R2y :  0.7270808705580535\n",
      "session:  12\n",
      "\n",
      "Session= 12\n",
      "Dataset : /home/jovyan/dataset/indy/Sorted_Spike_Dataset/indy_20160915_01.mat\n",
      "Unsort Data shape: (5952, 96)\n",
      "session:  13\n",
      "\n",
      "Session= 13\n",
      "Dataset : /home/jovyan/dataset/indy/Sorted_Spike_Dataset/indy_20160916_01.mat\n",
      "Unsort Data shape: (7058, 96)\n",
      "Running GPU : 0\n",
      "Deep domain confusion training\n"
     ]
    },
    {
     "name": "stderr",
     "output_type": "stream",
     "text": [
      "/opt/conda/lib/python3.8/site-packages/torch/nn/modules/rnn.py:60: UserWarning: dropout option adds dropout after all but last recurrent layer, so non-zero dropout expects num_layers greater than 1, but got dropout=0.2 and num_layers=1\n",
      "  warnings.warn(\"dropout option adds dropout after all but last \"\n"
     ]
    },
    {
     "name": "stdout",
     "output_type": "stream",
     "text": [
      "Model test ...\n",
      "R2x :  0.7234492519017551\n",
      "R2y :  0.8561029170135835\n",
      "session:  13\n",
      "\n",
      "Session= 13\n",
      "Dataset : /home/jovyan/dataset/indy/Sorted_Spike_Dataset/indy_20160916_01.mat\n",
      "Unsort Data shape: (7058, 96)\n",
      "session:  14\n",
      "\n",
      "Session= 14\n",
      "Dataset : /home/jovyan/dataset/indy/Sorted_Spike_Dataset/indy_20160921_01.mat\n",
      "Unsort Data shape: (5626, 96)\n",
      "Running GPU : 0\n",
      "Deep domain confusion training\n"
     ]
    },
    {
     "name": "stderr",
     "output_type": "stream",
     "text": [
      "/opt/conda/lib/python3.8/site-packages/torch/nn/modules/rnn.py:60: UserWarning: dropout option adds dropout after all but last recurrent layer, so non-zero dropout expects num_layers greater than 1, but got dropout=0.2 and num_layers=1\n",
      "  warnings.warn(\"dropout option adds dropout after all but last \"\n"
     ]
    },
    {
     "name": "stdout",
     "output_type": "stream",
     "text": [
      "Model test ...\n",
      "R2x :  0.5887977844995664\n",
      "R2y :  0.7989111853384647\n",
      "session:  14\n",
      "\n",
      "Session= 14\n",
      "Dataset : /home/jovyan/dataset/indy/Sorted_Spike_Dataset/indy_20160921_01.mat\n",
      "Unsort Data shape: (5626, 96)\n",
      "session:  15\n",
      "\n",
      "Session= 15\n",
      "Dataset : /home/jovyan/dataset/indy/Sorted_Spike_Dataset/indy_20160927_04.mat\n",
      "Unsort Data shape: (6082, 96)\n",
      "Running GPU : 0\n",
      "Deep domain confusion training\n"
     ]
    },
    {
     "name": "stderr",
     "output_type": "stream",
     "text": [
      "/opt/conda/lib/python3.8/site-packages/torch/nn/modules/rnn.py:60: UserWarning: dropout option adds dropout after all but last recurrent layer, so non-zero dropout expects num_layers greater than 1, but got dropout=0.2 and num_layers=1\n",
      "  warnings.warn(\"dropout option adds dropout after all but last \"\n"
     ]
    },
    {
     "name": "stdout",
     "output_type": "stream",
     "text": [
      "Model test ...\n",
      "R2x :  0.6683935934945175\n",
      "R2y :  0.8374399638251513\n",
      "session:  15\n",
      "\n",
      "Session= 15\n",
      "Dataset : /home/jovyan/dataset/indy/Sorted_Spike_Dataset/indy_20160927_04.mat\n",
      "Unsort Data shape: (6082, 96)\n",
      "session:  16\n",
      "\n",
      "Session= 16\n",
      "Dataset : /home/jovyan/dataset/indy/Sorted_Spike_Dataset/indy_20160927_06.mat\n",
      "Unsort Data shape: (6577, 96)\n",
      "Running GPU : 0\n",
      "Deep domain confusion training\n"
     ]
    },
    {
     "name": "stderr",
     "output_type": "stream",
     "text": [
      "/opt/conda/lib/python3.8/site-packages/torch/nn/modules/rnn.py:60: UserWarning: dropout option adds dropout after all but last recurrent layer, so non-zero dropout expects num_layers greater than 1, but got dropout=0.2 and num_layers=1\n",
      "  warnings.warn(\"dropout option adds dropout after all but last \"\n"
     ]
    },
    {
     "name": "stdout",
     "output_type": "stream",
     "text": [
      "Model test ...\n",
      "R2x :  0.730506277056434\n",
      "R2y :  0.8003051422794945\n",
      "session:  16\n",
      "\n",
      "Session= 16\n",
      "Dataset : /home/jovyan/dataset/indy/Sorted_Spike_Dataset/indy_20160927_06.mat\n",
      "Unsort Data shape: (6577, 96)\n",
      "session:  17\n",
      "\n",
      "Session= 17\n",
      "Dataset : /home/jovyan/dataset/indy/Sorted_Spike_Dataset/indy_20160930_02.mat\n",
      "Unsort Data shape: (7198, 96)\n",
      "Running GPU : 0\n",
      "Deep domain confusion training\n"
     ]
    },
    {
     "name": "stderr",
     "output_type": "stream",
     "text": [
      "/opt/conda/lib/python3.8/site-packages/torch/nn/modules/rnn.py:60: UserWarning: dropout option adds dropout after all but last recurrent layer, so non-zero dropout expects num_layers greater than 1, but got dropout=0.2 and num_layers=1\n",
      "  warnings.warn(\"dropout option adds dropout after all but last \"\n"
     ]
    },
    {
     "name": "stdout",
     "output_type": "stream",
     "text": [
      "Model test ...\n",
      "R2x :  0.6947968465860338\n",
      "R2y :  0.7406091476290901\n",
      "session:  17\n",
      "\n",
      "Session= 17\n",
      "Dataset : /home/jovyan/dataset/indy/Sorted_Spike_Dataset/indy_20160930_02.mat\n",
      "Unsort Data shape: (7198, 96)\n",
      "session:  18\n",
      "\n",
      "Session= 18\n",
      "Dataset : /home/jovyan/dataset/indy/Sorted_Spike_Dataset/indy_20160930_05.mat\n",
      "Unsort Data shape: (6342, 96)\n",
      "Running GPU : 0\n",
      "Deep domain confusion training\n"
     ]
    },
    {
     "name": "stderr",
     "output_type": "stream",
     "text": [
      "/opt/conda/lib/python3.8/site-packages/torch/nn/modules/rnn.py:60: UserWarning: dropout option adds dropout after all but last recurrent layer, so non-zero dropout expects num_layers greater than 1, but got dropout=0.2 and num_layers=1\n",
      "  warnings.warn(\"dropout option adds dropout after all but last \"\n"
     ]
    },
    {
     "name": "stdout",
     "output_type": "stream",
     "text": [
      "Model test ...\n",
      "R2x :  0.65091876894025\n",
      "R2y :  0.749862997402334\n",
      "session:  18\n",
      "\n",
      "Session= 18\n",
      "Dataset : /home/jovyan/dataset/indy/Sorted_Spike_Dataset/indy_20160930_05.mat\n",
      "Unsort Data shape: (6342, 96)\n",
      "session:  19\n",
      "\n",
      "Session= 19\n",
      "Dataset : /home/jovyan/dataset/indy/Sorted_Spike_Dataset/indy_20161005_06.mat\n",
      "Unsort Data shape: (5842, 96)\n",
      "Running GPU : 0\n",
      "Deep domain confusion training\n"
     ]
    },
    {
     "name": "stderr",
     "output_type": "stream",
     "text": [
      "/opt/conda/lib/python3.8/site-packages/torch/nn/modules/rnn.py:60: UserWarning: dropout option adds dropout after all but last recurrent layer, so non-zero dropout expects num_layers greater than 1, but got dropout=0.2 and num_layers=1\n",
      "  warnings.warn(\"dropout option adds dropout after all but last \"\n"
     ]
    },
    {
     "name": "stdout",
     "output_type": "stream",
     "text": [
      "Model test ...\n",
      "R2x :  0.6664101824219221\n",
      "R2y :  0.8278268804202263\n",
      "session:  19\n",
      "\n",
      "Session= 19\n",
      "Dataset : /home/jovyan/dataset/indy/Sorted_Spike_Dataset/indy_20161005_06.mat\n",
      "Unsort Data shape: (5842, 96)\n",
      "session:  20\n",
      "\n",
      "Session= 20\n",
      "Dataset : /home/jovyan/dataset/indy/Sorted_Spike_Dataset/indy_20161006_02.mat\n",
      "Unsort Data shape: (7842, 96)\n",
      "Running GPU : 0\n",
      "Deep domain confusion training\n"
     ]
    },
    {
     "name": "stderr",
     "output_type": "stream",
     "text": [
      "/opt/conda/lib/python3.8/site-packages/torch/nn/modules/rnn.py:60: UserWarning: dropout option adds dropout after all but last recurrent layer, so non-zero dropout expects num_layers greater than 1, but got dropout=0.2 and num_layers=1\n",
      "  warnings.warn(\"dropout option adds dropout after all but last \"\n"
     ]
    },
    {
     "name": "stdout",
     "output_type": "stream",
     "text": [
      "Model test ...\n",
      "R2x :  0.6785886028677919\n",
      "R2y :  0.8046500643372352\n",
      "session:  20\n",
      "\n",
      "Session= 20\n",
      "Dataset : /home/jovyan/dataset/indy/Sorted_Spike_Dataset/indy_20161006_02.mat\n",
      "Unsort Data shape: (7842, 96)\n",
      "session:  21\n",
      "\n",
      "Session= 21\n",
      "Dataset : /home/jovyan/dataset/indy/Sorted_Spike_Dataset/indy_20161007_02.mat\n",
      "Unsort Data shape: (7676, 96)\n",
      "Running GPU : 0\n",
      "Deep domain confusion training\n"
     ]
    },
    {
     "name": "stderr",
     "output_type": "stream",
     "text": [
      "/opt/conda/lib/python3.8/site-packages/torch/nn/modules/rnn.py:60: UserWarning: dropout option adds dropout after all but last recurrent layer, so non-zero dropout expects num_layers greater than 1, but got dropout=0.2 and num_layers=1\n",
      "  warnings.warn(\"dropout option adds dropout after all but last \"\n"
     ]
    },
    {
     "name": "stdout",
     "output_type": "stream",
     "text": [
      "Model test ...\n",
      "R2x :  0.7119806737782358\n",
      "R2y :  0.7763881712561382\n",
      "session:  21\n",
      "\n",
      "Session= 21\n",
      "Dataset : /home/jovyan/dataset/indy/Sorted_Spike_Dataset/indy_20161007_02.mat\n",
      "Unsort Data shape: (7676, 96)\n",
      "session:  22\n",
      "\n",
      "Session= 22\n",
      "Dataset : /home/jovyan/dataset/indy/Sorted_Spike_Dataset/indy_20161011_03.mat\n",
      "Unsort Data shape: (10526, 96)\n",
      "Running GPU : 0\n",
      "Deep domain confusion training\n"
     ]
    },
    {
     "name": "stderr",
     "output_type": "stream",
     "text": [
      "/opt/conda/lib/python3.8/site-packages/torch/nn/modules/rnn.py:60: UserWarning: dropout option adds dropout after all but last recurrent layer, so non-zero dropout expects num_layers greater than 1, but got dropout=0.2 and num_layers=1\n",
      "  warnings.warn(\"dropout option adds dropout after all but last \"\n"
     ]
    },
    {
     "name": "stdout",
     "output_type": "stream",
     "text": [
      "Model test ...\n",
      "R2x :  0.6691966388800827\n",
      "R2y :  0.7618883586152452\n",
      "session:  22\n",
      "\n",
      "Session= 22\n",
      "Dataset : /home/jovyan/dataset/indy/Sorted_Spike_Dataset/indy_20161011_03.mat\n",
      "Unsort Data shape: (10526, 96)\n",
      "session:  23\n",
      "\n",
      "Session= 23\n",
      "Dataset : /home/jovyan/dataset/indy/Sorted_Spike_Dataset/indy_20161013_03.mat\n",
      "Unsort Data shape: (8084, 96)\n",
      "Running GPU : 0\n",
      "Deep domain confusion training\n"
     ]
    },
    {
     "name": "stderr",
     "output_type": "stream",
     "text": [
      "/opt/conda/lib/python3.8/site-packages/torch/nn/modules/rnn.py:60: UserWarning: dropout option adds dropout after all but last recurrent layer, so non-zero dropout expects num_layers greater than 1, but got dropout=0.2 and num_layers=1\n",
      "  warnings.warn(\"dropout option adds dropout after all but last \"\n"
     ]
    },
    {
     "name": "stdout",
     "output_type": "stream",
     "text": [
      "Model test ...\n",
      "R2x :  0.6181030769952593\n",
      "R2y :  0.6877338462109124\n",
      "session:  23\n",
      "\n",
      "Session= 23\n",
      "Dataset : /home/jovyan/dataset/indy/Sorted_Spike_Dataset/indy_20161013_03.mat\n",
      "Unsort Data shape: (8084, 96)\n",
      "session:  24\n",
      "\n",
      "Session= 24\n",
      "Dataset : /home/jovyan/dataset/indy/Sorted_Spike_Dataset/indy_20161014_04.mat\n",
      "Unsort Data shape: (8108, 96)\n",
      "Running GPU : 0\n",
      "Deep domain confusion training\n"
     ]
    },
    {
     "name": "stderr",
     "output_type": "stream",
     "text": [
      "/opt/conda/lib/python3.8/site-packages/torch/nn/modules/rnn.py:60: UserWarning: dropout option adds dropout after all but last recurrent layer, so non-zero dropout expects num_layers greater than 1, but got dropout=0.2 and num_layers=1\n",
      "  warnings.warn(\"dropout option adds dropout after all but last \"\n"
     ]
    },
    {
     "name": "stdout",
     "output_type": "stream",
     "text": [
      "Model test ...\n",
      "R2x :  0.6579528321957345\n",
      "R2y :  0.7339240725805689\n",
      "session:  24\n",
      "\n",
      "Session= 24\n",
      "Dataset : /home/jovyan/dataset/indy/Sorted_Spike_Dataset/indy_20161014_04.mat\n",
      "Unsort Data shape: (8108, 96)\n",
      "session:  25\n",
      "\n",
      "Session= 25\n",
      "Dataset : /home/jovyan/dataset/indy/Sorted_Spike_Dataset/indy_20161017_02.mat\n",
      "Unsort Data shape: (7746, 96)\n",
      "Running GPU : 0\n",
      "Deep domain confusion training\n"
     ]
    },
    {
     "name": "stderr",
     "output_type": "stream",
     "text": [
      "/opt/conda/lib/python3.8/site-packages/torch/nn/modules/rnn.py:60: UserWarning: dropout option adds dropout after all but last recurrent layer, so non-zero dropout expects num_layers greater than 1, but got dropout=0.2 and num_layers=1\n",
      "  warnings.warn(\"dropout option adds dropout after all but last \"\n"
     ]
    },
    {
     "name": "stdout",
     "output_type": "stream",
     "text": [
      "Model test ...\n",
      "R2x :  0.683018202524625\n",
      "R2y :  0.7777391819981823\n",
      "session:  25\n",
      "\n",
      "Session= 25\n",
      "Dataset : /home/jovyan/dataset/indy/Sorted_Spike_Dataset/indy_20161017_02.mat\n",
      "Unsort Data shape: (7746, 96)\n",
      "session:  26\n",
      "\n",
      "Session= 26\n",
      "Dataset : /home/jovyan/dataset/indy/Sorted_Spike_Dataset/indy_20161024_03.mat\n",
      "Unsort Data shape: (7379, 96)\n",
      "Running GPU : 0\n",
      "Deep domain confusion training\n"
     ]
    },
    {
     "name": "stderr",
     "output_type": "stream",
     "text": [
      "/opt/conda/lib/python3.8/site-packages/torch/nn/modules/rnn.py:60: UserWarning: dropout option adds dropout after all but last recurrent layer, so non-zero dropout expects num_layers greater than 1, but got dropout=0.2 and num_layers=1\n",
      "  warnings.warn(\"dropout option adds dropout after all but last \"\n"
     ]
    },
    {
     "name": "stdout",
     "output_type": "stream",
     "text": [
      "Model test ...\n",
      "R2x :  0.7133350370342777\n",
      "R2y :  0.775717139539229\n",
      "session:  26\n",
      "\n",
      "Session= 26\n",
      "Dataset : /home/jovyan/dataset/indy/Sorted_Spike_Dataset/indy_20161024_03.mat\n",
      "Unsort Data shape: (7379, 96)\n",
      "session:  27\n",
      "\n",
      "Session= 27\n",
      "Dataset : /home/jovyan/dataset/indy/Sorted_Spike_Dataset/indy_20161025_04.mat\n",
      "Unsort Data shape: (7874, 96)\n",
      "Running GPU : 0\n",
      "Deep domain confusion training\n"
     ]
    },
    {
     "name": "stderr",
     "output_type": "stream",
     "text": [
      "/opt/conda/lib/python3.8/site-packages/torch/nn/modules/rnn.py:60: UserWarning: dropout option adds dropout after all but last recurrent layer, so non-zero dropout expects num_layers greater than 1, but got dropout=0.2 and num_layers=1\n",
      "  warnings.warn(\"dropout option adds dropout after all but last \"\n"
     ]
    },
    {
     "name": "stdout",
     "output_type": "stream",
     "text": [
      "Model test ...\n",
      "R2x :  0.7277963122724\n",
      "R2y :  0.7541274067870912\n",
      "session:  27\n",
      "\n",
      "Session= 27\n",
      "Dataset : /home/jovyan/dataset/indy/Sorted_Spike_Dataset/indy_20161025_04.mat\n",
      "Unsort Data shape: (7874, 96)\n",
      "session:  28\n",
      "\n",
      "Session= 28\n",
      "Dataset : /home/jovyan/dataset/indy/Sorted_Spike_Dataset/indy_20161026_03.mat\n",
      "Unsort Data shape: (7771, 96)\n",
      "Running GPU : 0\n",
      "Deep domain confusion training\n"
     ]
    },
    {
     "name": "stderr",
     "output_type": "stream",
     "text": [
      "/opt/conda/lib/python3.8/site-packages/torch/nn/modules/rnn.py:60: UserWarning: dropout option adds dropout after all but last recurrent layer, so non-zero dropout expects num_layers greater than 1, but got dropout=0.2 and num_layers=1\n",
      "  warnings.warn(\"dropout option adds dropout after all but last \"\n"
     ]
    },
    {
     "name": "stdout",
     "output_type": "stream",
     "text": [
      "Model test ...\n",
      "R2x :  0.6671714558269766\n",
      "R2y :  0.7465841741866103\n",
      "session:  28\n",
      "\n",
      "Session= 28\n",
      "Dataset : /home/jovyan/dataset/indy/Sorted_Spike_Dataset/indy_20161026_03.mat\n",
      "Unsort Data shape: (7771, 96)\n",
      "session:  29\n",
      "\n",
      "Session= 29\n",
      "Dataset : /home/jovyan/dataset/indy/Sorted_Spike_Dataset/indy_20161027_03.mat\n",
      "Unsort Data shape: (9045, 96)\n",
      "Running GPU : 0\n",
      "Deep domain confusion training\n"
     ]
    },
    {
     "name": "stderr",
     "output_type": "stream",
     "text": [
      "/opt/conda/lib/python3.8/site-packages/torch/nn/modules/rnn.py:60: UserWarning: dropout option adds dropout after all but last recurrent layer, so non-zero dropout expects num_layers greater than 1, but got dropout=0.2 and num_layers=1\n",
      "  warnings.warn(\"dropout option adds dropout after all but last \"\n"
     ]
    },
    {
     "name": "stdout",
     "output_type": "stream",
     "text": [
      "Model test ...\n",
      "R2x :  0.7142441167965448\n",
      "R2y :  0.6876043273930283\n",
      "session:  29\n",
      "\n",
      "Session= 29\n",
      "Dataset : /home/jovyan/dataset/indy/Sorted_Spike_Dataset/indy_20161027_03.mat\n",
      "Unsort Data shape: (9045, 96)\n",
      "session:  30\n",
      "\n",
      "Session= 30\n",
      "Dataset : /home/jovyan/dataset/indy/Sorted_Spike_Dataset/indy_20161206_02.mat\n",
      "Unsort Data shape: (11528, 96)\n",
      "Running GPU : 0\n",
      "Deep domain confusion training\n"
     ]
    },
    {
     "name": "stderr",
     "output_type": "stream",
     "text": [
      "/opt/conda/lib/python3.8/site-packages/torch/nn/modules/rnn.py:60: UserWarning: dropout option adds dropout after all but last recurrent layer, so non-zero dropout expects num_layers greater than 1, but got dropout=0.2 and num_layers=1\n",
      "  warnings.warn(\"dropout option adds dropout after all but last \"\n"
     ]
    },
    {
     "name": "stdout",
     "output_type": "stream",
     "text": [
      "Model test ...\n",
      "R2x :  0.5276968427345232\n",
      "R2y :  0.6169657244673367\n",
      "session:  30\n",
      "\n",
      "Session= 30\n",
      "Dataset : /home/jovyan/dataset/indy/Sorted_Spike_Dataset/indy_20161206_02.mat\n",
      "Unsort Data shape: (11528, 96)\n",
      "session:  31\n",
      "\n",
      "Session= 31\n",
      "Dataset : /home/jovyan/dataset/indy/Sorted_Spike_Dataset/indy_20161207_02.mat\n",
      "Unsort Data shape: (6953, 96)\n",
      "Running GPU : 0\n",
      "Deep domain confusion training\n"
     ]
    },
    {
     "name": "stderr",
     "output_type": "stream",
     "text": [
      "/opt/conda/lib/python3.8/site-packages/torch/nn/modules/rnn.py:60: UserWarning: dropout option adds dropout after all but last recurrent layer, so non-zero dropout expects num_layers greater than 1, but got dropout=0.2 and num_layers=1\n",
      "  warnings.warn(\"dropout option adds dropout after all but last \"\n"
     ]
    },
    {
     "name": "stdout",
     "output_type": "stream",
     "text": [
      "Model test ...\n",
      "R2x :  0.6755123113077706\n",
      "R2y :  0.7964967258510264\n",
      "session:  31\n",
      "\n",
      "Session= 31\n",
      "Dataset : /home/jovyan/dataset/indy/Sorted_Spike_Dataset/indy_20161207_02.mat\n",
      "Unsort Data shape: (6953, 96)\n",
      "session:  32\n",
      "\n",
      "Session= 32\n",
      "Dataset : /home/jovyan/dataset/indy/Sorted_Spike_Dataset/indy_20161212_02.mat\n",
      "Unsort Data shape: (8760, 96)\n",
      "Running GPU : 0\n",
      "Deep domain confusion training\n"
     ]
    },
    {
     "name": "stderr",
     "output_type": "stream",
     "text": [
      "/opt/conda/lib/python3.8/site-packages/torch/nn/modules/rnn.py:60: UserWarning: dropout option adds dropout after all but last recurrent layer, so non-zero dropout expects num_layers greater than 1, but got dropout=0.2 and num_layers=1\n",
      "  warnings.warn(\"dropout option adds dropout after all but last \"\n"
     ]
    },
    {
     "name": "stdout",
     "output_type": "stream",
     "text": [
      "Model test ...\n",
      "R2x :  0.7014709689589564\n",
      "R2y :  0.8317352398591806\n",
      "session:  32\n",
      "\n",
      "Session= 32\n",
      "Dataset : /home/jovyan/dataset/indy/Sorted_Spike_Dataset/indy_20161212_02.mat\n",
      "Unsort Data shape: (8760, 96)\n",
      "session:  33\n",
      "\n",
      "Session= 33\n",
      "Dataset : /home/jovyan/dataset/indy/Sorted_Spike_Dataset/indy_20161220_02.mat\n",
      "Unsort Data shape: (9004, 96)\n",
      "Running GPU : 0\n",
      "Deep domain confusion training\n"
     ]
    },
    {
     "name": "stderr",
     "output_type": "stream",
     "text": [
      "/opt/conda/lib/python3.8/site-packages/torch/nn/modules/rnn.py:60: UserWarning: dropout option adds dropout after all but last recurrent layer, so non-zero dropout expects num_layers greater than 1, but got dropout=0.2 and num_layers=1\n",
      "  warnings.warn(\"dropout option adds dropout after all but last \"\n"
     ]
    },
    {
     "name": "stdout",
     "output_type": "stream",
     "text": [
      "Model test ...\n",
      "R2x :  0.5580351650259987\n",
      "R2y :  0.7122869003015726\n",
      "session:  33\n",
      "\n",
      "Session= 33\n",
      "Dataset : /home/jovyan/dataset/indy/Sorted_Spike_Dataset/indy_20161220_02.mat\n",
      "Unsort Data shape: (9004, 96)\n",
      "session:  34\n",
      "\n",
      "Session= 34\n",
      "Dataset : /home/jovyan/dataset/indy/Sorted_Spike_Dataset/indy_20170123_02.mat\n",
      "Unsort Data shape: (9526, 96)\n",
      "Running GPU : 0\n",
      "Deep domain confusion training\n"
     ]
    },
    {
     "name": "stderr",
     "output_type": "stream",
     "text": [
      "/opt/conda/lib/python3.8/site-packages/torch/nn/modules/rnn.py:60: UserWarning: dropout option adds dropout after all but last recurrent layer, so non-zero dropout expects num_layers greater than 1, but got dropout=0.2 and num_layers=1\n",
      "  warnings.warn(\"dropout option adds dropout after all but last \"\n"
     ]
    },
    {
     "name": "stdout",
     "output_type": "stream",
     "text": [
      "Model test ...\n",
      "R2x :  0.7030686214925307\n",
      "R2y :  0.7493334607998394\n",
      "session:  34\n",
      "\n",
      "Session= 34\n",
      "Dataset : /home/jovyan/dataset/indy/Sorted_Spike_Dataset/indy_20170123_02.mat\n",
      "Unsort Data shape: (9526, 96)\n",
      "session:  35\n",
      "\n",
      "Session= 35\n",
      "Dataset : /home/jovyan/dataset/indy/Sorted_Spike_Dataset/indy_20170124_01.mat\n",
      "Unsort Data shape: (9217, 96)\n",
      "Running GPU : 0\n",
      "Deep domain confusion training\n"
     ]
    },
    {
     "name": "stderr",
     "output_type": "stream",
     "text": [
      "/opt/conda/lib/python3.8/site-packages/torch/nn/modules/rnn.py:60: UserWarning: dropout option adds dropout after all but last recurrent layer, so non-zero dropout expects num_layers greater than 1, but got dropout=0.2 and num_layers=1\n",
      "  warnings.warn(\"dropout option adds dropout after all but last \"\n"
     ]
    },
    {
     "name": "stdout",
     "output_type": "stream",
     "text": [
      "Model test ...\n",
      "R2x :  0.7056149536068523\n",
      "R2y :  0.7816946894990132\n",
      "session:  35\n",
      "\n",
      "Session= 35\n",
      "Dataset : /home/jovyan/dataset/indy/Sorted_Spike_Dataset/indy_20170124_01.mat\n",
      "Unsort Data shape: (9217, 96)\n",
      "session:  36\n",
      "\n",
      "Session= 36\n",
      "Dataset : /home/jovyan/dataset/indy/Sorted_Spike_Dataset/indy_20170127_03.mat\n",
      "Unsort Data shape: (11460, 96)\n",
      "Running GPU : 0\n",
      "Deep domain confusion training\n"
     ]
    },
    {
     "name": "stderr",
     "output_type": "stream",
     "text": [
      "/opt/conda/lib/python3.8/site-packages/torch/nn/modules/rnn.py:60: UserWarning: dropout option adds dropout after all but last recurrent layer, so non-zero dropout expects num_layers greater than 1, but got dropout=0.2 and num_layers=1\n",
      "  warnings.warn(\"dropout option adds dropout after all but last \"\n"
     ]
    },
    {
     "name": "stdout",
     "output_type": "stream",
     "text": [
      "Model test ...\n",
      "R2x :  0.6866273741706513\n",
      "R2y :  0.6650822128080508\n",
      "session:  36\n",
      "\n",
      "Session= 36\n",
      "Dataset : /home/jovyan/dataset/indy/Sorted_Spike_Dataset/indy_20170127_03.mat\n",
      "Unsort Data shape: (11460, 96)\n",
      "session:  37\n",
      "\n",
      "Session= 37\n",
      "Dataset : /home/jovyan/dataset/indy/Sorted_Spike_Dataset/indy_20170131_02.mat\n",
      "Unsort Data shape: (12748, 96)\n",
      "Running GPU : 0\n",
      "Deep domain confusion training\n"
     ]
    },
    {
     "name": "stderr",
     "output_type": "stream",
     "text": [
      "/opt/conda/lib/python3.8/site-packages/torch/nn/modules/rnn.py:60: UserWarning: dropout option adds dropout after all but last recurrent layer, so non-zero dropout expects num_layers greater than 1, but got dropout=0.2 and num_layers=1\n",
      "  warnings.warn(\"dropout option adds dropout after all but last \"\n"
     ]
    },
    {
     "name": "stdout",
     "output_type": "stream",
     "text": [
      "Model test ...\n",
      "R2x :  0.6642096332223086\n",
      "R2y :  0.6955096715710939\n"
     ]
    },
    {
     "data": {
      "image/png": "[encoded data removed]",
      "text/plain": [
       "<Figure size 432x288 with 1 Axes>"
      ]
     },
     "metadata": {
      "needs_background": "light"
     },
     "output_type": "display_data"
    }
   ],
   "source": [
    "A = []\n",
    "for target in range(2, 38):\n",
    "    S_train_loader, S_val_loader = dataloader.New_Dataloader(target-1)\n",
    "    T_train_loader, T_test_loader = dataloader.New_Dataloader(target)\n",
    "\n",
    "    if torch.cuda.is_available():\n",
    "        get_free_gpu()\n",
    "        print('Running GPU : {}'.format(torch.cuda.current_device()))\n",
    "        encoder = model.Extractor().cuda()\n",
    "        decoder = model.Decoder().cuda()\n",
    "        total_time = train.DDN_train(encoder, decoder, S_train_loader, T_train_loader, param.target_label)\n",
    "    else:\n",
    "        print(\"There is no GPU -_-!\")\n",
    "\n",
    "    S_r2_x, S_r2_y, T_r2_x, T_r2_y, discrepancy = testt.DC_tester(encoder, decoder, S_val_loader, T_test_loader)\n",
    "    print(\"R2x : \", T_r2_x)\n",
    "    print(\"R2y : \", T_r2_y)\n",
    "    a = [[S_r2_x, S_r2_y, T_r2_x, T_r2_y, discrepancy, total_time]]\n",
    "    A.append([target, 'x', T_r2_x, 'domain_confusion'])\n",
    "    A.append([target, 'y', T_r2_y, 'domain_confusion'])"
   ]
  },
  {
   "cell_type": "code",
   "execution_count": 9,
   "id": "a20e223c",
   "metadata": {},
   "outputs": [],
   "source": [
    "result = pd.DataFrame(A, columns=['session', 'axis', 'rSquare', 'method'])    \n",
    "result.to_csv('./results/domain_confusion.csv', index=False, header=True)"
   ]
  },
  {
   "cell_type": "code",
   "execution_count": 12,
   "id": "4ce9165a",
   "metadata": {},
   "outputs": [
    {
     "data": {
      "text/plain": [
       "Text(0.5, 0.98, 'Domain confusion calibration')"
      ]
     },
     "execution_count": 12,
     "metadata": {},
     "output_type": "execute_result"
    },
    {
     "data": {
      "image/png": "[encoded data removed]",
      "text/plain": [
       "<Figure size 1440x576 with 1 Axes>"
      ]
     },
     "metadata": {},
     "output_type": "display_data"
    }
   ],
   "source": [
    "import seaborn as sns\n",
    "import matplotlib.pyplot as plt\n",
    "\n",
    "result = pd.read_csv('./results/domain_confusion.csv')\n",
    "fig, ax = plt.subplots(1, 1, figsize=(20, 8))\n",
    "sns.set(style='white', font_scale=2)\n",
    "sns.barplot(ax=ax, data=result, x=\"session\", y=\"rSquare\", hue=\"axis\")\n",
    "ax.set_xlabel('session')\n",
    "ax.set_ylabel('$R^2$')\n",
    "fig.suptitle('Domain confusion calibration')\n",
    "# ax.set_xlim([2, 37])"
   ]
  },
  {
   "cell_type": "code",
   "execution_count": null,
   "id": "2729d5c1",
   "metadata": {},
   "outputs": [],
   "source": []
  },
  {
   "cell_type": "code",
   "execution_count": null,
   "id": "51fc4e57",
   "metadata": {},
   "outputs": [],
   "source": []
  }
 ],
 "metadata": {
  "kernelspec": {
   "display_name": "Python 3",
   "language": "python",
   "name": "python3"
  },
  "language_info": {
   "codemirror_mode": {
    "name": "ipython",
    "version": 3
   },
   "file_extension": ".py",
   "mimetype": "text/x-python",
   "name": "python",
   "nbconvert_exporter": "python",
   "pygments_lexer": "ipython3",
   "version": "3.8.8"
  }
 },
 "nbformat": 4,
 "nbformat_minor": 5
}
