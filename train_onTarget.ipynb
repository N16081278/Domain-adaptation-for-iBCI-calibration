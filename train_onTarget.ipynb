{
 "cells": [
  {
   "cell_type": "markdown",
   "metadata": {},
   "source": [
    "# Daily retrain之訓練與測試"
   ]
  },
  {
   "cell_type": "code",
   "execution_count": 15,
   "metadata": {},
   "outputs": [],
   "source": [
    "import tensorflow as tf\n",
    "import tensorflow.keras as keras\n",
    "import numpy as np\n",
    "import pandas as pd\n",
    "import os\n",
    "from sklearn.manifold import TSNE\n",
    "import itertools\n",
    "from dataPreprocess import read_dataset\n",
    "from loss_functions import maximumMeanDiscrepancy\n",
    "from sklearn.metrics import r2_score"
   ]
  },
  {
   "cell_type": "code",
   "execution_count": 2,
   "metadata": {},
   "outputs": [],
   "source": [
    "targetSessionIndex = 16 # 選擇session"
   ]
  },
  {
   "cell_type": "code",
   "execution_count": 4,
   "metadata": {},
   "outputs": [],
   "source": [
    "folderPath = './data'\n",
    "fileList = sorted([i for i in os.listdir(folderPath) if i.endswith('.pkl.zip')])"
   ]
  },
  {
   "cell_type": "code",
   "execution_count": 5,
   "metadata": {},
   "outputs": [],
   "source": [
    "targetSession = fileList[targetSessionIndex]"
   ]
  },
  {
   "cell_type": "code",
   "execution_count": 6,
   "metadata": {},
   "outputs": [],
   "source": [
    "targetDataset = read_dataset(os.path.join(folderPath, targetSession), ['velocity_x', 'velocity_y'])"
   ]
  },
  {
   "cell_type": "code",
   "execution_count": 7,
   "metadata": {},
   "outputs": [],
   "source": [
    "from model_tf import simpleDecodeModel\n",
    "\n",
    "model = simpleDecodeModel()\n",
    "model.compile(optimizer='adam', loss='mse')"
   ]
  },
  {
   "cell_type": "code",
   "execution_count": 8,
   "metadata": {},
   "outputs": [],
   "source": [
    "TRAIN_COUNT = 5000\n",
    "\n",
    "train_x = targetDataset['m1'][:TRAIN_COUNT, -5:, :]\n",
    "train_y = targetDataset['movement'][:TRAIN_COUNT]\n",
    "test_x = targetDataset['m1'][TRAIN_COUNT:, -5:, :]\n",
    "test_y = targetDataset['movement'][TRAIN_COUNT:]\n",
    "\n",
    "train_timestamp = targetDataset['timestamp'][:TRAIN_COUNT]\n",
    "test_timestamp = targetDataset['timestamp'][TRAIN_COUNT:]"
   ]
  },
  {
   "cell_type": "code",
   "execution_count": 9,
   "metadata": {},
   "outputs": [],
   "source": [
    "# z-score\n",
    "train_y_mean, train_y_std = np.mean(train_y, axis=0), np.std(train_y, axis=0)\n",
    "train_y = (train_y - train_y_mean) / train_y_std\n",
    "test_y = (test_y - train_y_mean) / train_y_std"
   ]
  },
  {
   "cell_type": "code",
   "execution_count": 10,
   "metadata": {},
   "outputs": [
    {
     "data": {
      "text/plain": [
       "<tensorflow.python.keras.callbacks.History at 0x7ff6fc0f1dc0>"
      ]
     },
     "execution_count": 10,
     "metadata": {},
     "output_type": "execute_result"
    }
   ],
   "source": [
    "# train\n",
    "model.fit(x=train_x, y=train_y, batch_size=128, epochs=100, shuffle=True, verbose=0)"
   ]
  },
  {
   "cell_type": "code",
   "execution_count": 11,
   "metadata": {},
   "outputs": [],
   "source": [
    "# pred\n",
    "pred = model.predict(x=test_x)"
   ]
  },
  {
   "cell_type": "code",
   "execution_count": 12,
   "metadata": {},
   "outputs": [],
   "source": [
    "# 還原\n",
    "pred = pred * train_y_std + train_y_mean\n",
    "test_y = test_y * train_y_std + train_y_mean"
   ]
  },
  {
   "cell_type": "code",
   "execution_count": 16,
   "metadata": {},
   "outputs": [
    {
     "name": "stdout",
     "output_type": "stream",
     "text": [
      "vx: 0.7308415154542787\n",
      "vy: 0.776087132511426\n"
     ]
    }
   ],
   "source": [
    "# 計算R2\n",
    "r2 = [r2_score(y_pred=pred[:, i], y_true=test_y[:, i]) for i in range(pred.shape[-1])]\n",
    "print('vx:', r2[0])\n",
    "print('vy:', r2[1])"
   ]
  },
  {
   "cell_type": "code",
   "execution_count": null,
   "metadata": {},
   "outputs": [],
   "source": [
    "# 輸出\n",
    "result = pd.DataFrame(columns=[])\n",
    "axis = ['x', 'y']\n",
    "for n, a in enumerate(axis):\n",
    "    result = result.append(pd.DataFrame({\n",
    "        'timestamp': test_timestamp,\n",
    "        'value': test_y[:, n],\n",
    "        'type': 'groundtruth',   \n",
    "        'movement': 'velocity',\n",
    "        'axis': a,          \n",
    "        'test_on': targetSessionIndex,\n",
    "        'r2': r2[n]     \n",
    "    }))\n",
    "    result = result.append(pd.DataFrame({\n",
    "        'timestamp': test_timestamp,\n",
    "        'value': pred[:, n],\n",
    "        'type': 'prediction',   \n",
    "        'movement': 'velocity',\n",
    "        'axis': a, \n",
    "        'test_on': targetSessionIndex,  \n",
    "        'r2': r2[n]           \n",
    "    }))\n",
    "result.reset_index(inplace=True, drop=True)\n",
    "\n",
    "result.to_csv('./results/trainOnTarget.csv', index=False, header=True)"
   ]
  }
 ],
 "metadata": {
  "interpreter": {
   "hash": "dc4e6c621ea21b093738e2f0d9bac4ed146b02f4efea8205af9fdd51340ca594"
  },
  "kernelspec": {
   "display_name": "Python 3",
   "language": "python",
   "name": "python3"
  },
  "language_info": {
   "codemirror_mode": {
    "name": "ipython",
    "version": 3
   },
   "file_extension": ".py",
   "mimetype": "text/x-python",
   "name": "python",
   "nbconvert_exporter": "python",
   "pygments_lexer": "ipython3",
   "version": "3.8.8"
  }
 },
 "nbformat": 4,
 "nbformat_minor": 4
}
